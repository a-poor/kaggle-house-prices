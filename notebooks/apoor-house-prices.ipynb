{
 "metadata": {
  "language_info": {
   "codemirror_mode": {
    "name": "ipython",
    "version": 3
   },
   "file_extension": ".py",
   "mimetype": "text/x-python",
   "name": "python",
   "nbconvert_exporter": "python",
   "pygments_lexer": "ipython3",
   "version": "3.7.3-final"
  },
  "orig_nbformat": 2,
  "kernelspec": {
   "name": "python3",
   "display_name": "Python 3",
   "language": "python"
  }
 },
 "nbformat": 4,
 "nbformat_minor": 2,
 "cells": [
  {
   "source": [
    "# House Prices Advanced Regression Techniques\n",
    "\n",
    "_create by [Austin Poor](https://www.kaggle.com/austinpoor)_\n",
    "\n",
    "* [Kaggle Competition](https://www.kaggle.com/c/house-prices-advanced-regression-techniques/data?select=train.csv)\n",
    "* [Github Repo](https://github.com/a-poor/kaggle-house-prices/tree/main)"
   ],
   "cell_type": "markdown",
   "metadata": {}
  },
  {
   "cell_type": "code",
   "execution_count": 1,
   "metadata": {},
   "outputs": [],
   "source": [
    "import sys\n",
    "from pathlib import Path\n",
    "DATA_DIR = Path(\"../input\")"
   ]
  },
  {
   "cell_type": "code",
   "execution_count": 2,
   "metadata": {},
   "outputs": [],
   "source": [
    "import numpy as np\n",
    "import pandas as pd\n",
    "import matplotlib.pyplot as plt\n",
    "%matplotlib inline\n",
    "import seaborn as sns\n",
    "sns.set()"
   ]
  },
  {
   "cell_type": "code",
   "execution_count": 3,
   "metadata": {},
   "outputs": [
    {
     "output_type": "execute_result",
     "data": {
      "text/plain": [
       "   Id  MSSubClass MSZoning  LotFrontage  LotArea Street Alley LotShape  \\\n",
       "0   1          60       RL         65.0     8450   Pave   NaN      Reg   \n",
       "1   2          20       RL         80.0     9600   Pave   NaN      Reg   \n",
       "2   3          60       RL         68.0    11250   Pave   NaN      IR1   \n",
       "3   4          70       RL         60.0     9550   Pave   NaN      IR1   \n",
       "4   5          60       RL         84.0    14260   Pave   NaN      IR1   \n",
       "\n",
       "  LandContour Utilities  ... PoolArea PoolQC Fence MiscFeature MiscVal MoSold  \\\n",
       "0         Lvl    AllPub  ...        0    NaN   NaN         NaN       0      2   \n",
       "1         Lvl    AllPub  ...        0    NaN   NaN         NaN       0      5   \n",
       "2         Lvl    AllPub  ...        0    NaN   NaN         NaN       0      9   \n",
       "3         Lvl    AllPub  ...        0    NaN   NaN         NaN       0      2   \n",
       "4         Lvl    AllPub  ...        0    NaN   NaN         NaN       0     12   \n",
       "\n",
       "  YrSold  SaleType  SaleCondition  SalePrice  \n",
       "0   2008        WD         Normal     208500  \n",
       "1   2007        WD         Normal     181500  \n",
       "2   2008        WD         Normal     223500  \n",
       "3   2006        WD        Abnorml     140000  \n",
       "4   2008        WD         Normal     250000  \n",
       "\n",
       "[5 rows x 81 columns]"
      ],
      "text/html": "<div>\n<style scoped>\n    .dataframe tbody tr th:only-of-type {\n        vertical-align: middle;\n    }\n\n    .dataframe tbody tr th {\n        vertical-align: top;\n    }\n\n    .dataframe thead th {\n        text-align: right;\n    }\n</style>\n<table border=\"1\" class=\"dataframe\">\n  <thead>\n    <tr style=\"text-align: right;\">\n      <th></th>\n      <th>Id</th>\n      <th>MSSubClass</th>\n      <th>MSZoning</th>\n      <th>LotFrontage</th>\n      <th>LotArea</th>\n      <th>Street</th>\n      <th>Alley</th>\n      <th>LotShape</th>\n      <th>LandContour</th>\n      <th>Utilities</th>\n      <th>...</th>\n      <th>PoolArea</th>\n      <th>PoolQC</th>\n      <th>Fence</th>\n      <th>MiscFeature</th>\n      <th>MiscVal</th>\n      <th>MoSold</th>\n      <th>YrSold</th>\n      <th>SaleType</th>\n      <th>SaleCondition</th>\n      <th>SalePrice</th>\n    </tr>\n  </thead>\n  <tbody>\n    <tr>\n      <th>0</th>\n      <td>1</td>\n      <td>60</td>\n      <td>RL</td>\n      <td>65.0</td>\n      <td>8450</td>\n      <td>Pave</td>\n      <td>NaN</td>\n      <td>Reg</td>\n      <td>Lvl</td>\n      <td>AllPub</td>\n      <td>...</td>\n      <td>0</td>\n      <td>NaN</td>\n      <td>NaN</td>\n      <td>NaN</td>\n      <td>0</td>\n      <td>2</td>\n      <td>2008</td>\n      <td>WD</td>\n      <td>Normal</td>\n      <td>208500</td>\n    </tr>\n    <tr>\n      <th>1</th>\n      <td>2</td>\n      <td>20</td>\n      <td>RL</td>\n      <td>80.0</td>\n      <td>9600</td>\n      <td>Pave</td>\n      <td>NaN</td>\n      <td>Reg</td>\n      <td>Lvl</td>\n      <td>AllPub</td>\n      <td>...</td>\n      <td>0</td>\n      <td>NaN</td>\n      <td>NaN</td>\n      <td>NaN</td>\n      <td>0</td>\n      <td>5</td>\n      <td>2007</td>\n      <td>WD</td>\n      <td>Normal</td>\n      <td>181500</td>\n    </tr>\n    <tr>\n      <th>2</th>\n      <td>3</td>\n      <td>60</td>\n      <td>RL</td>\n      <td>68.0</td>\n      <td>11250</td>\n      <td>Pave</td>\n      <td>NaN</td>\n      <td>IR1</td>\n      <td>Lvl</td>\n      <td>AllPub</td>\n      <td>...</td>\n      <td>0</td>\n      <td>NaN</td>\n      <td>NaN</td>\n      <td>NaN</td>\n      <td>0</td>\n      <td>9</td>\n      <td>2008</td>\n      <td>WD</td>\n      <td>Normal</td>\n      <td>223500</td>\n    </tr>\n    <tr>\n      <th>3</th>\n      <td>4</td>\n      <td>70</td>\n      <td>RL</td>\n      <td>60.0</td>\n      <td>9550</td>\n      <td>Pave</td>\n      <td>NaN</td>\n      <td>IR1</td>\n      <td>Lvl</td>\n      <td>AllPub</td>\n      <td>...</td>\n      <td>0</td>\n      <td>NaN</td>\n      <td>NaN</td>\n      <td>NaN</td>\n      <td>0</td>\n      <td>2</td>\n      <td>2006</td>\n      <td>WD</td>\n      <td>Abnorml</td>\n      <td>140000</td>\n    </tr>\n    <tr>\n      <th>4</th>\n      <td>5</td>\n      <td>60</td>\n      <td>RL</td>\n      <td>84.0</td>\n      <td>14260</td>\n      <td>Pave</td>\n      <td>NaN</td>\n      <td>IR1</td>\n      <td>Lvl</td>\n      <td>AllPub</td>\n      <td>...</td>\n      <td>0</td>\n      <td>NaN</td>\n      <td>NaN</td>\n      <td>NaN</td>\n      <td>0</td>\n      <td>12</td>\n      <td>2008</td>\n      <td>WD</td>\n      <td>Normal</td>\n      <td>250000</td>\n    </tr>\n  </tbody>\n</table>\n<p>5 rows × 81 columns</p>\n</div>"
     },
     "metadata": {},
     "execution_count": 3
    }
   ],
   "source": [
    "df_train = pd.read_csv(DATA_DIR / \"train.csv\")\n",
    "df_train.head()"
   ]
  },
  {
   "cell_type": "code",
   "execution_count": 4,
   "metadata": {},
   "outputs": [],
   "source": [
    "def clean_df(df:pd.DataFrame) -> pd.DataFrame:\n",
    "    category_columns = ['MSSubClass',\n",
    "        'MSZoning','Street','Alley','LotShape','LandContour',\n",
    "        'Utilities','LotConfig','LandSlope','Neighborhood',\n",
    "        'Condition1','Condition2','BldgType','HouseStyle',\n",
    "        'OverallQual','OverallCond','RoofStyle','RoofMatl',\n",
    "        'Exterior1st','Exterior2nd','MasVnrType','ExterQual',\n",
    "        'ExterCond','Foundation','BsmtQual','BsmtCond',\n",
    "        'BsmtExposure','BsmtFinType2','Heating','HeatingQC',\n",
    "        'CentralAir','Electrical','KitchenQual','Functional',\n",
    "        'FireplaceQu','GarageType','GarageFinish','GarageQual',\n",
    "        'GarageCond','PavedDrive','PoolQC','Fence','MiscFeature',\n",
    "        'SaleType','SaleCondition']\n",
    "    for c in category_columns:\n",
    "        df[c] = pd.Categorical(df[c])\n",
    "    return df"
   ]
  },
  {
   "cell_type": "code",
   "execution_count": 5,
   "metadata": {},
   "outputs": [
    {
     "output_type": "execute_result",
     "data": {
      "text/plain": [
       "        Id MSSubClass MSZoning  LotFrontage  LotArea Street Alley LotShape  \\\n",
       "999   1000         20       RL         64.0     6762   Pave   NaN      Reg   \n",
       "200    201         20       RM         80.0     8546   Pave   NaN      Reg   \n",
       "366    367         20       RL          NaN     9500   Pave   NaN      IR1   \n",
       "858    859         20       RL         80.0    10400   Pave   NaN      Reg   \n",
       "842    843         80       RL         82.0     9020   Pave   NaN      Reg   \n",
       "132    133         20       RL         75.0     7388   Pave   NaN      Reg   \n",
       "734    735         20       RL          NaN     8978   Pave   NaN      IR1   \n",
       "1120  1121         30       RM         59.0     8263   Pave   NaN      Reg   \n",
       "1335  1336         20       RL         80.0     9650   Pave   NaN      Reg   \n",
       "484    485         20       RL          NaN     7758   Pave   NaN      IR1   \n",
       "\n",
       "     LandContour Utilities  ... PoolArea PoolQC  Fence MiscFeature MiscVal  \\\n",
       "999          Lvl    AllPub  ...        0    NaN    NaN         NaN       0   \n",
       "200          Lvl    AllPub  ...        0    NaN    NaN         NaN       0   \n",
       "366          Lvl    AllPub  ...        0    NaN    NaN         NaN       0   \n",
       "858          Lvl    AllPub  ...        0    NaN  MnPrv         NaN       0   \n",
       "842          Lvl    AllPub  ...        0    NaN  GdPrv         NaN       0   \n",
       "132          Lvl    AllPub  ...        0    NaN    NaN         NaN       0   \n",
       "734          Lvl    AllPub  ...        0    NaN    NaN         NaN       0   \n",
       "1120         Bnk    AllPub  ...        0    NaN  MnPrv         NaN       0   \n",
       "1335         Lvl    AllPub  ...        0    NaN    NaN         NaN       0   \n",
       "484          Lvl    AllPub  ...        0    NaN    NaN         NaN       0   \n",
       "\n",
       "     MoSold YrSold SaleType SaleCondition  SalePrice  \n",
       "999       2   2010       WD        Normal     206000  \n",
       "200       3   2010       WD        Normal     140000  \n",
       "366       7   2009       WD        Normal     159000  \n",
       "858       6   2009       WD        Family     152000  \n",
       "842       5   2008       WD        Normal     174900  \n",
       "132       7   2007       WD        Normal     150750  \n",
       "734       5   2007       WD        Family     108000  \n",
       "1120      5   2007       WD        Normal     118400  \n",
       "1335      4   2009       WD        Normal     167900  \n",
       "484       3   2007       WD        Normal     132500  \n",
       "\n",
       "[10 rows x 81 columns]"
      ],
      "text/html": "<div>\n<style scoped>\n    .dataframe tbody tr th:only-of-type {\n        vertical-align: middle;\n    }\n\n    .dataframe tbody tr th {\n        vertical-align: top;\n    }\n\n    .dataframe thead th {\n        text-align: right;\n    }\n</style>\n<table border=\"1\" class=\"dataframe\">\n  <thead>\n    <tr style=\"text-align: right;\">\n      <th></th>\n      <th>Id</th>\n      <th>MSSubClass</th>\n      <th>MSZoning</th>\n      <th>LotFrontage</th>\n      <th>LotArea</th>\n      <th>Street</th>\n      <th>Alley</th>\n      <th>LotShape</th>\n      <th>LandContour</th>\n      <th>Utilities</th>\n      <th>...</th>\n      <th>PoolArea</th>\n      <th>PoolQC</th>\n      <th>Fence</th>\n      <th>MiscFeature</th>\n      <th>MiscVal</th>\n      <th>MoSold</th>\n      <th>YrSold</th>\n      <th>SaleType</th>\n      <th>SaleCondition</th>\n      <th>SalePrice</th>\n    </tr>\n  </thead>\n  <tbody>\n    <tr>\n      <th>999</th>\n      <td>1000</td>\n      <td>20</td>\n      <td>RL</td>\n      <td>64.0</td>\n      <td>6762</td>\n      <td>Pave</td>\n      <td>NaN</td>\n      <td>Reg</td>\n      <td>Lvl</td>\n      <td>AllPub</td>\n      <td>...</td>\n      <td>0</td>\n      <td>NaN</td>\n      <td>NaN</td>\n      <td>NaN</td>\n      <td>0</td>\n      <td>2</td>\n      <td>2010</td>\n      <td>WD</td>\n      <td>Normal</td>\n      <td>206000</td>\n    </tr>\n    <tr>\n      <th>200</th>\n      <td>201</td>\n      <td>20</td>\n      <td>RM</td>\n      <td>80.0</td>\n      <td>8546</td>\n      <td>Pave</td>\n      <td>NaN</td>\n      <td>Reg</td>\n      <td>Lvl</td>\n      <td>AllPub</td>\n      <td>...</td>\n      <td>0</td>\n      <td>NaN</td>\n      <td>NaN</td>\n      <td>NaN</td>\n      <td>0</td>\n      <td>3</td>\n      <td>2010</td>\n      <td>WD</td>\n      <td>Normal</td>\n      <td>140000</td>\n    </tr>\n    <tr>\n      <th>366</th>\n      <td>367</td>\n      <td>20</td>\n      <td>RL</td>\n      <td>NaN</td>\n      <td>9500</td>\n      <td>Pave</td>\n      <td>NaN</td>\n      <td>IR1</td>\n      <td>Lvl</td>\n      <td>AllPub</td>\n      <td>...</td>\n      <td>0</td>\n      <td>NaN</td>\n      <td>NaN</td>\n      <td>NaN</td>\n      <td>0</td>\n      <td>7</td>\n      <td>2009</td>\n      <td>WD</td>\n      <td>Normal</td>\n      <td>159000</td>\n    </tr>\n    <tr>\n      <th>858</th>\n      <td>859</td>\n      <td>20</td>\n      <td>RL</td>\n      <td>80.0</td>\n      <td>10400</td>\n      <td>Pave</td>\n      <td>NaN</td>\n      <td>Reg</td>\n      <td>Lvl</td>\n      <td>AllPub</td>\n      <td>...</td>\n      <td>0</td>\n      <td>NaN</td>\n      <td>MnPrv</td>\n      <td>NaN</td>\n      <td>0</td>\n      <td>6</td>\n      <td>2009</td>\n      <td>WD</td>\n      <td>Family</td>\n      <td>152000</td>\n    </tr>\n    <tr>\n      <th>842</th>\n      <td>843</td>\n      <td>80</td>\n      <td>RL</td>\n      <td>82.0</td>\n      <td>9020</td>\n      <td>Pave</td>\n      <td>NaN</td>\n      <td>Reg</td>\n      <td>Lvl</td>\n      <td>AllPub</td>\n      <td>...</td>\n      <td>0</td>\n      <td>NaN</td>\n      <td>GdPrv</td>\n      <td>NaN</td>\n      <td>0</td>\n      <td>5</td>\n      <td>2008</td>\n      <td>WD</td>\n      <td>Normal</td>\n      <td>174900</td>\n    </tr>\n    <tr>\n      <th>132</th>\n      <td>133</td>\n      <td>20</td>\n      <td>RL</td>\n      <td>75.0</td>\n      <td>7388</td>\n      <td>Pave</td>\n      <td>NaN</td>\n      <td>Reg</td>\n      <td>Lvl</td>\n      <td>AllPub</td>\n      <td>...</td>\n      <td>0</td>\n      <td>NaN</td>\n      <td>NaN</td>\n      <td>NaN</td>\n      <td>0</td>\n      <td>7</td>\n      <td>2007</td>\n      <td>WD</td>\n      <td>Normal</td>\n      <td>150750</td>\n    </tr>\n    <tr>\n      <th>734</th>\n      <td>735</td>\n      <td>20</td>\n      <td>RL</td>\n      <td>NaN</td>\n      <td>8978</td>\n      <td>Pave</td>\n      <td>NaN</td>\n      <td>IR1</td>\n      <td>Lvl</td>\n      <td>AllPub</td>\n      <td>...</td>\n      <td>0</td>\n      <td>NaN</td>\n      <td>NaN</td>\n      <td>NaN</td>\n      <td>0</td>\n      <td>5</td>\n      <td>2007</td>\n      <td>WD</td>\n      <td>Family</td>\n      <td>108000</td>\n    </tr>\n    <tr>\n      <th>1120</th>\n      <td>1121</td>\n      <td>30</td>\n      <td>RM</td>\n      <td>59.0</td>\n      <td>8263</td>\n      <td>Pave</td>\n      <td>NaN</td>\n      <td>Reg</td>\n      <td>Bnk</td>\n      <td>AllPub</td>\n      <td>...</td>\n      <td>0</td>\n      <td>NaN</td>\n      <td>MnPrv</td>\n      <td>NaN</td>\n      <td>0</td>\n      <td>5</td>\n      <td>2007</td>\n      <td>WD</td>\n      <td>Normal</td>\n      <td>118400</td>\n    </tr>\n    <tr>\n      <th>1335</th>\n      <td>1336</td>\n      <td>20</td>\n      <td>RL</td>\n      <td>80.0</td>\n      <td>9650</td>\n      <td>Pave</td>\n      <td>NaN</td>\n      <td>Reg</td>\n      <td>Lvl</td>\n      <td>AllPub</td>\n      <td>...</td>\n      <td>0</td>\n      <td>NaN</td>\n      <td>NaN</td>\n      <td>NaN</td>\n      <td>0</td>\n      <td>4</td>\n      <td>2009</td>\n      <td>WD</td>\n      <td>Normal</td>\n      <td>167900</td>\n    </tr>\n    <tr>\n      <th>484</th>\n      <td>485</td>\n      <td>20</td>\n      <td>RL</td>\n      <td>NaN</td>\n      <td>7758</td>\n      <td>Pave</td>\n      <td>NaN</td>\n      <td>IR1</td>\n      <td>Lvl</td>\n      <td>AllPub</td>\n      <td>...</td>\n      <td>0</td>\n      <td>NaN</td>\n      <td>NaN</td>\n      <td>NaN</td>\n      <td>0</td>\n      <td>3</td>\n      <td>2007</td>\n      <td>WD</td>\n      <td>Normal</td>\n      <td>132500</td>\n    </tr>\n  </tbody>\n</table>\n<p>10 rows × 81 columns</p>\n</div>"
     },
     "metadata": {},
     "execution_count": 5
    }
   ],
   "source": [
    "df_train = clean_df(df_train)\n",
    "df_train.sample(10)"
   ]
  },
  {
   "cell_type": "code",
   "execution_count": 6,
   "metadata": {},
   "outputs": [
    {
     "output_type": "stream",
     "name": "stdout",
     "text": [
      "<class 'pandas.core.frame.DataFrame'>\nRangeIndex: 1460 entries, 0 to 1459\nData columns (total 81 columns):\nId               1460 non-null int64\nMSSubClass       1460 non-null category\nMSZoning         1460 non-null category\nLotFrontage      1201 non-null float64\nLotArea          1460 non-null int64\nStreet           1460 non-null category\nAlley            91 non-null category\nLotShape         1460 non-null category\nLandContour      1460 non-null category\nUtilities        1460 non-null category\nLotConfig        1460 non-null category\nLandSlope        1460 non-null category\nNeighborhood     1460 non-null category\nCondition1       1460 non-null category\nCondition2       1460 non-null category\nBldgType         1460 non-null category\nHouseStyle       1460 non-null category\nOverallQual      1460 non-null category\nOverallCond      1460 non-null category\nYearBuilt        1460 non-null int64\nYearRemodAdd     1460 non-null int64\nRoofStyle        1460 non-null category\nRoofMatl         1460 non-null category\nExterior1st      1460 non-null category\nExterior2nd      1460 non-null category\nMasVnrType       1452 non-null category\nMasVnrArea       1452 non-null float64\nExterQual        1460 non-null category\nExterCond        1460 non-null category\nFoundation       1460 non-null category\nBsmtQual         1423 non-null category\nBsmtCond         1423 non-null category\nBsmtExposure     1422 non-null category\nBsmtFinType1     1423 non-null object\nBsmtFinSF1       1460 non-null int64\nBsmtFinType2     1422 non-null category\nBsmtFinSF2       1460 non-null int64\nBsmtUnfSF        1460 non-null int64\nTotalBsmtSF      1460 non-null int64\nHeating          1460 non-null category\nHeatingQC        1460 non-null category\nCentralAir       1460 non-null category\nElectrical       1459 non-null category\n1stFlrSF         1460 non-null int64\n2ndFlrSF         1460 non-null int64\nLowQualFinSF     1460 non-null int64\nGrLivArea        1460 non-null int64\nBsmtFullBath     1460 non-null int64\nBsmtHalfBath     1460 non-null int64\nFullBath         1460 non-null int64\nHalfBath         1460 non-null int64\nBedroomAbvGr     1460 non-null int64\nKitchenAbvGr     1460 non-null int64\nKitchenQual      1460 non-null category\nTotRmsAbvGrd     1460 non-null int64\nFunctional       1460 non-null category\nFireplaces       1460 non-null int64\nFireplaceQu      770 non-null category\nGarageType       1379 non-null category\nGarageYrBlt      1379 non-null float64\nGarageFinish     1379 non-null category\nGarageCars       1460 non-null int64\nGarageArea       1460 non-null int64\nGarageQual       1379 non-null category\nGarageCond       1379 non-null category\nPavedDrive       1460 non-null category\nWoodDeckSF       1460 non-null int64\nOpenPorchSF      1460 non-null int64\nEnclosedPorch    1460 non-null int64\n3SsnPorch        1460 non-null int64\nScreenPorch      1460 non-null int64\nPoolArea         1460 non-null int64\nPoolQC           7 non-null category\nFence            281 non-null category\nMiscFeature      54 non-null category\nMiscVal          1460 non-null int64\nMoSold           1460 non-null int64\nYrSold           1460 non-null int64\nSaleType         1460 non-null category\nSaleCondition    1460 non-null category\nSalePrice        1460 non-null int64\ndtypes: category(45), float64(3), int64(32), object(1)\nmemory usage: 486.6+ KB\n"
     ]
    }
   ],
   "source": [
    "df_train.info()"
   ]
  },
  {
   "source": [
    "__Sort Columns by $|CORR(column)|$__"
   ],
   "cell_type": "markdown",
   "metadata": {}
  },
  {
   "cell_type": "code",
   "execution_count": 8,
   "metadata": {},
   "outputs": [
    {
     "output_type": "execute_result",
     "data": {
      "text/plain": [
       "               sales_corr  abs_corr  col_variance\n",
       "colname                                          \n",
       "SalePrice        1.000000  1.000000  6.311111e+09\n",
       "GrLivArea        0.708624  0.708624  2.761296e+05\n",
       "GarageCars       0.640409  0.640409  5.584797e-01\n",
       "GarageArea       0.623431  0.623431  4.571251e+04\n",
       "TotalBsmtSF      0.613581  0.613581  1.924624e+05\n",
       "1stFlrSF         0.605852  0.605852  1.494501e+05\n",
       "FullBath         0.560664  0.560664  3.035082e-01\n",
       "TotRmsAbvGrd     0.533723  0.533723  2.641903e+00\n",
       "YearBuilt        0.522897  0.522897  9.122154e+02\n",
       "YearRemodAdd     0.507101  0.507101  4.262328e+02\n",
       "GarageYrBlt      0.486362  0.486362  6.095825e+02\n",
       "MasVnrArea       0.477493  0.477493  3.278497e+04\n",
       "Fireplaces       0.466929  0.466929  4.155947e-01\n",
       "BsmtFinSF1       0.386420  0.386420  2.080255e+05\n",
       "LotFrontage      0.351799  0.351799  5.897492e+02\n",
       "WoodDeckSF       0.324413  0.324413  1.570981e+04\n",
       "2ndFlrSF         0.319334  0.319334  1.905571e+05\n",
       "OpenPorchSF      0.315856  0.315856  4.389861e+03\n",
       "HalfBath         0.284108  0.284108  2.528937e-01\n",
       "LotArea          0.263843  0.263843  9.962565e+07\n",
       "BsmtFullBath     0.227122  0.227122  2.692682e-01\n",
       "BsmtUnfSF        0.214479  0.214479  1.952464e+05\n",
       "BedroomAbvGr     0.168213  0.168213  6.654938e-01\n",
       "KitchenAbvGr    -0.135907  0.135907  4.854892e-02\n",
       "EnclosedPorch   -0.128578  0.128578  3.735550e+03\n",
       "ScreenPorch      0.111447  0.111447  3.108889e+03\n",
       "PoolArea         0.092404  0.092404  1.614216e+03\n",
       "MoSold           0.046432  0.046432  7.309595e+00\n",
       "3SsnPorch        0.044584  0.044584  8.595059e+02\n",
       "YrSold          -0.028923  0.028923  1.763837e+00\n",
       "LowQualFinSF    -0.025606  0.025606  2.364204e+03\n",
       "Id              -0.021917  0.021917  1.777550e+05\n",
       "MiscVal         -0.021190  0.021190  2.461381e+05\n",
       "BsmtHalfBath    -0.016844  0.016844  5.700283e-02\n",
       "BsmtFinSF2      -0.011378  0.011378  2.602391e+04"
      ],
      "text/html": "<div>\n<style scoped>\n    .dataframe tbody tr th:only-of-type {\n        vertical-align: middle;\n    }\n\n    .dataframe tbody tr th {\n        vertical-align: top;\n    }\n\n    .dataframe thead th {\n        text-align: right;\n    }\n</style>\n<table border=\"1\" class=\"dataframe\">\n  <thead>\n    <tr style=\"text-align: right;\">\n      <th></th>\n      <th>sales_corr</th>\n      <th>abs_corr</th>\n      <th>col_variance</th>\n    </tr>\n    <tr>\n      <th>colname</th>\n      <th></th>\n      <th></th>\n      <th></th>\n    </tr>\n  </thead>\n  <tbody>\n    <tr>\n      <th>SalePrice</th>\n      <td>1.000000</td>\n      <td>1.000000</td>\n      <td>6.311111e+09</td>\n    </tr>\n    <tr>\n      <th>GrLivArea</th>\n      <td>0.708624</td>\n      <td>0.708624</td>\n      <td>2.761296e+05</td>\n    </tr>\n    <tr>\n      <th>GarageCars</th>\n      <td>0.640409</td>\n      <td>0.640409</td>\n      <td>5.584797e-01</td>\n    </tr>\n    <tr>\n      <th>GarageArea</th>\n      <td>0.623431</td>\n      <td>0.623431</td>\n      <td>4.571251e+04</td>\n    </tr>\n    <tr>\n      <th>TotalBsmtSF</th>\n      <td>0.613581</td>\n      <td>0.613581</td>\n      <td>1.924624e+05</td>\n    </tr>\n    <tr>\n      <th>1stFlrSF</th>\n      <td>0.605852</td>\n      <td>0.605852</td>\n      <td>1.494501e+05</td>\n    </tr>\n    <tr>\n      <th>FullBath</th>\n      <td>0.560664</td>\n      <td>0.560664</td>\n      <td>3.035082e-01</td>\n    </tr>\n    <tr>\n      <th>TotRmsAbvGrd</th>\n      <td>0.533723</td>\n      <td>0.533723</td>\n      <td>2.641903e+00</td>\n    </tr>\n    <tr>\n      <th>YearBuilt</th>\n      <td>0.522897</td>\n      <td>0.522897</td>\n      <td>9.122154e+02</td>\n    </tr>\n    <tr>\n      <th>YearRemodAdd</th>\n      <td>0.507101</td>\n      <td>0.507101</td>\n      <td>4.262328e+02</td>\n    </tr>\n    <tr>\n      <th>GarageYrBlt</th>\n      <td>0.486362</td>\n      <td>0.486362</td>\n      <td>6.095825e+02</td>\n    </tr>\n    <tr>\n      <th>MasVnrArea</th>\n      <td>0.477493</td>\n      <td>0.477493</td>\n      <td>3.278497e+04</td>\n    </tr>\n    <tr>\n      <th>Fireplaces</th>\n      <td>0.466929</td>\n      <td>0.466929</td>\n      <td>4.155947e-01</td>\n    </tr>\n    <tr>\n      <th>BsmtFinSF1</th>\n      <td>0.386420</td>\n      <td>0.386420</td>\n      <td>2.080255e+05</td>\n    </tr>\n    <tr>\n      <th>LotFrontage</th>\n      <td>0.351799</td>\n      <td>0.351799</td>\n      <td>5.897492e+02</td>\n    </tr>\n    <tr>\n      <th>WoodDeckSF</th>\n      <td>0.324413</td>\n      <td>0.324413</td>\n      <td>1.570981e+04</td>\n    </tr>\n    <tr>\n      <th>2ndFlrSF</th>\n      <td>0.319334</td>\n      <td>0.319334</td>\n      <td>1.905571e+05</td>\n    </tr>\n    <tr>\n      <th>OpenPorchSF</th>\n      <td>0.315856</td>\n      <td>0.315856</td>\n      <td>4.389861e+03</td>\n    </tr>\n    <tr>\n      <th>HalfBath</th>\n      <td>0.284108</td>\n      <td>0.284108</td>\n      <td>2.528937e-01</td>\n    </tr>\n    <tr>\n      <th>LotArea</th>\n      <td>0.263843</td>\n      <td>0.263843</td>\n      <td>9.962565e+07</td>\n    </tr>\n    <tr>\n      <th>BsmtFullBath</th>\n      <td>0.227122</td>\n      <td>0.227122</td>\n      <td>2.692682e-01</td>\n    </tr>\n    <tr>\n      <th>BsmtUnfSF</th>\n      <td>0.214479</td>\n      <td>0.214479</td>\n      <td>1.952464e+05</td>\n    </tr>\n    <tr>\n      <th>BedroomAbvGr</th>\n      <td>0.168213</td>\n      <td>0.168213</td>\n      <td>6.654938e-01</td>\n    </tr>\n    <tr>\n      <th>KitchenAbvGr</th>\n      <td>-0.135907</td>\n      <td>0.135907</td>\n      <td>4.854892e-02</td>\n    </tr>\n    <tr>\n      <th>EnclosedPorch</th>\n      <td>-0.128578</td>\n      <td>0.128578</td>\n      <td>3.735550e+03</td>\n    </tr>\n    <tr>\n      <th>ScreenPorch</th>\n      <td>0.111447</td>\n      <td>0.111447</td>\n      <td>3.108889e+03</td>\n    </tr>\n    <tr>\n      <th>PoolArea</th>\n      <td>0.092404</td>\n      <td>0.092404</td>\n      <td>1.614216e+03</td>\n    </tr>\n    <tr>\n      <th>MoSold</th>\n      <td>0.046432</td>\n      <td>0.046432</td>\n      <td>7.309595e+00</td>\n    </tr>\n    <tr>\n      <th>3SsnPorch</th>\n      <td>0.044584</td>\n      <td>0.044584</td>\n      <td>8.595059e+02</td>\n    </tr>\n    <tr>\n      <th>YrSold</th>\n      <td>-0.028923</td>\n      <td>0.028923</td>\n      <td>1.763837e+00</td>\n    </tr>\n    <tr>\n      <th>LowQualFinSF</th>\n      <td>-0.025606</td>\n      <td>0.025606</td>\n      <td>2.364204e+03</td>\n    </tr>\n    <tr>\n      <th>Id</th>\n      <td>-0.021917</td>\n      <td>0.021917</td>\n      <td>1.777550e+05</td>\n    </tr>\n    <tr>\n      <th>MiscVal</th>\n      <td>-0.021190</td>\n      <td>0.021190</td>\n      <td>2.461381e+05</td>\n    </tr>\n    <tr>\n      <th>BsmtHalfBath</th>\n      <td>-0.016844</td>\n      <td>0.016844</td>\n      <td>5.700283e-02</td>\n    </tr>\n    <tr>\n      <th>BsmtFinSF2</th>\n      <td>-0.011378</td>\n      <td>0.011378</td>\n      <td>2.602391e+04</td>\n    </tr>\n  </tbody>\n</table>\n</div>"
     },
     "metadata": {},
     "execution_count": 8
    }
   ],
   "source": [
    "sales_corr = df_train.corr()[\"SalePrice\"]\\\n",
    "    .reset_index()\n",
    "sales_corr.columns = [\"colname\",\"sales_corr\"]\n",
    "sales_corr[\"abs_corr\"] = np.abs(sales_corr[\"sales_corr\"])\n",
    "sales_corr = sales_corr.set_index(\"colname\")\n",
    "sales_corr = sales_corr.join(colvariance)\n",
    "sales_corr.sort_values(\n",
    "    [\"abs_corr\",\"col_variance\"],\n",
    "    ascending=False\n",
    ")"
   ]
  },
  {
   "source": [
    "__Sort Columns by $Var(column)$__"
   ],
   "cell_type": "markdown",
   "metadata": {}
  },
  {
   "cell_type": "code",
   "execution_count": 9,
   "metadata": {},
   "outputs": [
    {
     "output_type": "execute_result",
     "data": {
      "text/plain": [
       "               sales_corr  abs_corr  col_variance\n",
       "colname                                          \n",
       "SalePrice        1.000000  1.000000  6.311111e+09\n",
       "LotArea          0.263843  0.263843  9.962565e+07\n",
       "GrLivArea        0.708624  0.708624  2.761296e+05\n",
       "MiscVal         -0.021190  0.021190  2.461381e+05\n",
       "BsmtFinSF1       0.386420  0.386420  2.080255e+05\n",
       "BsmtUnfSF        0.214479  0.214479  1.952464e+05\n",
       "TotalBsmtSF      0.613581  0.613581  1.924624e+05\n",
       "2ndFlrSF         0.319334  0.319334  1.905571e+05\n",
       "Id              -0.021917  0.021917  1.777550e+05\n",
       "1stFlrSF         0.605852  0.605852  1.494501e+05\n",
       "GarageArea       0.623431  0.623431  4.571251e+04\n",
       "MasVnrArea       0.477493  0.477493  3.278497e+04\n",
       "BsmtFinSF2      -0.011378  0.011378  2.602391e+04\n",
       "WoodDeckSF       0.324413  0.324413  1.570981e+04\n",
       "OpenPorchSF      0.315856  0.315856  4.389861e+03\n",
       "EnclosedPorch   -0.128578  0.128578  3.735550e+03\n",
       "ScreenPorch      0.111447  0.111447  3.108889e+03\n",
       "LowQualFinSF    -0.025606  0.025606  2.364204e+03\n",
       "PoolArea         0.092404  0.092404  1.614216e+03\n",
       "YearBuilt        0.522897  0.522897  9.122154e+02\n",
       "3SsnPorch        0.044584  0.044584  8.595059e+02\n",
       "GarageYrBlt      0.486362  0.486362  6.095825e+02\n",
       "LotFrontage      0.351799  0.351799  5.897492e+02\n",
       "YearRemodAdd     0.507101  0.507101  4.262328e+02\n",
       "MoSold           0.046432  0.046432  7.309595e+00\n",
       "TotRmsAbvGrd     0.533723  0.533723  2.641903e+00\n",
       "YrSold          -0.028923  0.028923  1.763837e+00\n",
       "BedroomAbvGr     0.168213  0.168213  6.654938e-01\n",
       "GarageCars       0.640409  0.640409  5.584797e-01\n",
       "Fireplaces       0.466929  0.466929  4.155947e-01\n",
       "FullBath         0.560664  0.560664  3.035082e-01\n",
       "BsmtFullBath     0.227122  0.227122  2.692682e-01\n",
       "HalfBath         0.284108  0.284108  2.528937e-01\n",
       "BsmtHalfBath    -0.016844  0.016844  5.700283e-02\n",
       "KitchenAbvGr    -0.135907  0.135907  4.854892e-02"
      ],
      "text/html": "<div>\n<style scoped>\n    .dataframe tbody tr th:only-of-type {\n        vertical-align: middle;\n    }\n\n    .dataframe tbody tr th {\n        vertical-align: top;\n    }\n\n    .dataframe thead th {\n        text-align: right;\n    }\n</style>\n<table border=\"1\" class=\"dataframe\">\n  <thead>\n    <tr style=\"text-align: right;\">\n      <th></th>\n      <th>sales_corr</th>\n      <th>abs_corr</th>\n      <th>col_variance</th>\n    </tr>\n    <tr>\n      <th>colname</th>\n      <th></th>\n      <th></th>\n      <th></th>\n    </tr>\n  </thead>\n  <tbody>\n    <tr>\n      <th>SalePrice</th>\n      <td>1.000000</td>\n      <td>1.000000</td>\n      <td>6.311111e+09</td>\n    </tr>\n    <tr>\n      <th>LotArea</th>\n      <td>0.263843</td>\n      <td>0.263843</td>\n      <td>9.962565e+07</td>\n    </tr>\n    <tr>\n      <th>GrLivArea</th>\n      <td>0.708624</td>\n      <td>0.708624</td>\n      <td>2.761296e+05</td>\n    </tr>\n    <tr>\n      <th>MiscVal</th>\n      <td>-0.021190</td>\n      <td>0.021190</td>\n      <td>2.461381e+05</td>\n    </tr>\n    <tr>\n      <th>BsmtFinSF1</th>\n      <td>0.386420</td>\n      <td>0.386420</td>\n      <td>2.080255e+05</td>\n    </tr>\n    <tr>\n      <th>BsmtUnfSF</th>\n      <td>0.214479</td>\n      <td>0.214479</td>\n      <td>1.952464e+05</td>\n    </tr>\n    <tr>\n      <th>TotalBsmtSF</th>\n      <td>0.613581</td>\n      <td>0.613581</td>\n      <td>1.924624e+05</td>\n    </tr>\n    <tr>\n      <th>2ndFlrSF</th>\n      <td>0.319334</td>\n      <td>0.319334</td>\n      <td>1.905571e+05</td>\n    </tr>\n    <tr>\n      <th>Id</th>\n      <td>-0.021917</td>\n      <td>0.021917</td>\n      <td>1.777550e+05</td>\n    </tr>\n    <tr>\n      <th>1stFlrSF</th>\n      <td>0.605852</td>\n      <td>0.605852</td>\n      <td>1.494501e+05</td>\n    </tr>\n    <tr>\n      <th>GarageArea</th>\n      <td>0.623431</td>\n      <td>0.623431</td>\n      <td>4.571251e+04</td>\n    </tr>\n    <tr>\n      <th>MasVnrArea</th>\n      <td>0.477493</td>\n      <td>0.477493</td>\n      <td>3.278497e+04</td>\n    </tr>\n    <tr>\n      <th>BsmtFinSF2</th>\n      <td>-0.011378</td>\n      <td>0.011378</td>\n      <td>2.602391e+04</td>\n    </tr>\n    <tr>\n      <th>WoodDeckSF</th>\n      <td>0.324413</td>\n      <td>0.324413</td>\n      <td>1.570981e+04</td>\n    </tr>\n    <tr>\n      <th>OpenPorchSF</th>\n      <td>0.315856</td>\n      <td>0.315856</td>\n      <td>4.389861e+03</td>\n    </tr>\n    <tr>\n      <th>EnclosedPorch</th>\n      <td>-0.128578</td>\n      <td>0.128578</td>\n      <td>3.735550e+03</td>\n    </tr>\n    <tr>\n      <th>ScreenPorch</th>\n      <td>0.111447</td>\n      <td>0.111447</td>\n      <td>3.108889e+03</td>\n    </tr>\n    <tr>\n      <th>LowQualFinSF</th>\n      <td>-0.025606</td>\n      <td>0.025606</td>\n      <td>2.364204e+03</td>\n    </tr>\n    <tr>\n      <th>PoolArea</th>\n      <td>0.092404</td>\n      <td>0.092404</td>\n      <td>1.614216e+03</td>\n    </tr>\n    <tr>\n      <th>YearBuilt</th>\n      <td>0.522897</td>\n      <td>0.522897</td>\n      <td>9.122154e+02</td>\n    </tr>\n    <tr>\n      <th>3SsnPorch</th>\n      <td>0.044584</td>\n      <td>0.044584</td>\n      <td>8.595059e+02</td>\n    </tr>\n    <tr>\n      <th>GarageYrBlt</th>\n      <td>0.486362</td>\n      <td>0.486362</td>\n      <td>6.095825e+02</td>\n    </tr>\n    <tr>\n      <th>LotFrontage</th>\n      <td>0.351799</td>\n      <td>0.351799</td>\n      <td>5.897492e+02</td>\n    </tr>\n    <tr>\n      <th>YearRemodAdd</th>\n      <td>0.507101</td>\n      <td>0.507101</td>\n      <td>4.262328e+02</td>\n    </tr>\n    <tr>\n      <th>MoSold</th>\n      <td>0.046432</td>\n      <td>0.046432</td>\n      <td>7.309595e+00</td>\n    </tr>\n    <tr>\n      <th>TotRmsAbvGrd</th>\n      <td>0.533723</td>\n      <td>0.533723</td>\n      <td>2.641903e+00</td>\n    </tr>\n    <tr>\n      <th>YrSold</th>\n      <td>-0.028923</td>\n      <td>0.028923</td>\n      <td>1.763837e+00</td>\n    </tr>\n    <tr>\n      <th>BedroomAbvGr</th>\n      <td>0.168213</td>\n      <td>0.168213</td>\n      <td>6.654938e-01</td>\n    </tr>\n    <tr>\n      <th>GarageCars</th>\n      <td>0.640409</td>\n      <td>0.640409</td>\n      <td>5.584797e-01</td>\n    </tr>\n    <tr>\n      <th>Fireplaces</th>\n      <td>0.466929</td>\n      <td>0.466929</td>\n      <td>4.155947e-01</td>\n    </tr>\n    <tr>\n      <th>FullBath</th>\n      <td>0.560664</td>\n      <td>0.560664</td>\n      <td>3.035082e-01</td>\n    </tr>\n    <tr>\n      <th>BsmtFullBath</th>\n      <td>0.227122</td>\n      <td>0.227122</td>\n      <td>2.692682e-01</td>\n    </tr>\n    <tr>\n      <th>HalfBath</th>\n      <td>0.284108</td>\n      <td>0.284108</td>\n      <td>2.528937e-01</td>\n    </tr>\n    <tr>\n      <th>BsmtHalfBath</th>\n      <td>-0.016844</td>\n      <td>0.016844</td>\n      <td>5.700283e-02</td>\n    </tr>\n    <tr>\n      <th>KitchenAbvGr</th>\n      <td>-0.135907</td>\n      <td>0.135907</td>\n      <td>4.854892e-02</td>\n    </tr>\n  </tbody>\n</table>\n</div>"
     },
     "metadata": {},
     "execution_count": 9
    }
   ],
   "source": [
    "sales_corr.sort_values(\n",
    "    [\"col_variance\",\"abs_corr\"],\n",
    "    ascending=False\n",
    ")"
   ]
  },
  {
   "cell_type": "code",
   "execution_count": 56,
   "metadata": {},
   "outputs": [],
   "source": [
    "from sklearn import impute\n",
    "from sklearn import preprocessing\n",
    "from sklearn import feature_extraction\n",
    "from sklearn import feature_selection\n",
    "from sklearn import model_selection\n",
    "from sklearn import linear_model\n",
    "from sklearn import tree\n",
    "from sklearn import ensemble"
   ]
  },
  {
   "cell_type": "code",
   "execution_count": 127,
   "metadata": {},
   "outputs": [],
   "source": [
    "from xgboost import XGBRegressor"
   ]
  },
  {
   "cell_type": "code",
   "execution_count": 87,
   "metadata": {},
   "outputs": [
    {
     "output_type": "execute_result",
     "data": {
      "text/plain": [
       "0.9377120553973618"
      ]
     },
     "metadata": {},
     "execution_count": 87
    }
   ],
   "source": [
    "df = pd.get_dummies(df_train,drop_first=True)\n",
    "X, y = df.drop(\"SalePrice\",1), df[\"SalePrice\"].values\n",
    "\n",
    "imp = impute.SimpleImputer(strategy=\"median\")\n",
    "X = imp.fit_transform(X)\n",
    "\n",
    "m = linear_model.LinearRegression().fit(X,y)\n",
    "m.score(X,y)"
   ]
  },
  {
   "cell_type": "code",
   "execution_count": 115,
   "metadata": {},
   "outputs": [],
   "source": [
    "def kfold_index_gen(N: int, k: int):\n",
    "    w = N / k\n",
    "    fold_info = pd.DataFrame({\n",
    "        \"indx\": np.arange(N)\n",
    "        })\\\n",
    "        .sample(frac=1.)\\\n",
    "        .reset_index(drop=True)\n",
    "    fold_info[\"fold\"] = (np.arange(N) // w).astype(int)\n",
    "    for fold in range(k):\n",
    "        train = fold_info[fold_info.fold != fold].indx\n",
    "        test  = fold_info[fold_info.fold == fold].indx\n",
    "        yield train.values, test.values\n",
    "\n",
    "def kfold_data(X, y, k:int):\n",
    "    N = len(X)\n",
    "    for train_i, test_i in kfold_index_gen(N,k):\n",
    "        yield X[train_i], X[test_i], y[train_i], y[test_i]"
   ]
  },
  {
   "cell_type": "code",
   "execution_count": 116,
   "metadata": {},
   "outputs": [
    {
     "output_type": "execute_result",
     "data": {
      "text/plain": [
       "((1095, 274), (365, 274), (1095,), (365,))"
      ]
     },
     "metadata": {},
     "execution_count": 116
    }
   ],
   "source": [
    "X_train, X_test, y_train, y_test = model_selection.train_test_split(X,y)\n",
    "X_train.shape, X_test.shape, y_train.shape, y_test.shape"
   ]
  },
  {
   "cell_type": "code",
   "execution_count": 117,
   "metadata": {},
   "outputs": [
    {
     "output_type": "execute_result",
     "data": {
      "text/plain": [
       "((1095, 274), (1095,), (137, 2, 274), (137, 2))"
      ]
     },
     "metadata": {},
     "execution_count": 117
    }
   ],
   "source": [
    "X_train.shape, y_train.shape, X_val.shape, y_val.shape"
   ]
  },
  {
   "cell_type": "code",
   "execution_count": 150,
   "metadata": {},
   "outputs": [
    {
     "output_type": "stream",
     "name": "stdout",
     "text": [
      "Training 6 models on 8 folds\n",
      "Training model: Linear Regression\n",
      "[Linear Regression | 0] 0.0966\n",
      "[Linear Regression | 1] -0.2483\n",
      "[Linear Regression | 2] 0.4440\n",
      "[Linear Regression | 3] 0.4381\n",
      "[Linear Regression | 4] 0.7579\n",
      "[Linear Regression | 5] 0.8921\n",
      "[Linear Regression | 6] 0.9111\n",
      "[Linear Regression | 7] 0.3165\n",
      "\n",
      "Training model: LASSO Regression\n",
      "[LASSO Regression  | 0] 0.9250\n",
      "[LASSO Regression  | 1] 0.8922\n",
      "[LASSO Regression  | 2] 0.8829\n",
      "[LASSO Regression  | 3] 0.4621\n",
      "[LASSO Regression  | 4] 0.8436\n",
      "[LASSO Regression  | 5] 0.8956\n",
      "[LASSO Regression  | 6] 0.8613\n",
      "[LASSO Regression  | 7] 0.8855\n",
      "\n",
      "Training model: Decision Tree\n",
      "[Decision Tree     | 0] 0.6147\n",
      "[Decision Tree     | 1] 0.6311\n",
      "[Decision Tree     | 2] 0.5361\n",
      "[Decision Tree     | 3] 0.7265\n",
      "[Decision Tree     | 4] 0.8289\n",
      "[Decision Tree     | 5] 0.6726\n",
      "[Decision Tree     | 6] 0.7256\n",
      "[Decision Tree     | 7] 0.6589\n",
      "\n",
      "Training model: Random Forrest\n",
      "[Random Forrest    | 0] 0.8197\n",
      "[Random Forrest    | 1] 0.7109\n",
      "[Random Forrest    | 2] 0.8836\n",
      "[Random Forrest    | 3] 0.8361\n",
      "[Random Forrest    | 4] 0.8248\n",
      "[Random Forrest    | 5] 0.8486\n",
      "[Random Forrest    | 6] 0.6176\n",
      "[Random Forrest    | 7] 0.8663\n",
      "\n",
      "Training model: Gradient Boosted\n",
      "[Gradient Boosted  | 0] 0.8466\n",
      "[Gradient Boosted  | 1] 0.8380\n",
      "[Gradient Boosted  | 2] 0.8942\n",
      "[Gradient Boosted  | 3] 0.9405\n",
      "[Gradient Boosted  | 4] 0.6328\n",
      "[Gradient Boosted  | 5] 0.4797\n",
      "[Gradient Boosted  | 6] 0.9413\n",
      "[Gradient Boosted  | 7] 0.8680\n",
      "\n",
      "Training model: XGBoost\n",
      "[XGBoost           | 0] 0.6195\n",
      "[XGBoost           | 1] 0.8813\n",
      "[XGBoost           | 2] 0.8637\n",
      "[XGBoost           | 3] 0.8517\n",
      "[XGBoost           | 4] 0.6748\n",
      "[XGBoost           | 5] 0.8259\n",
      "[XGBoost           | 6] 0.8335\n",
      "[XGBoost           | 7] 0.8059\n",
      "\n",
      "Results..\n",
      "[Linear Regression] μ=0.4510 σ=0.3764\n",
      "[LASSO Regression ] μ=0.8310 σ=0.1412\n",
      "[Decision Tree    ] μ=0.6743 σ=0.0822\n",
      "[Random Forrest   ] μ=0.8009 σ=0.0846\n",
      "[Gradient Boosted ] μ=0.8051 σ=0.1530\n",
      "[XGBoost          ] μ=0.7945 σ=0.0889\n"
     ]
    }
   ],
   "source": [
    "# Set parameters\n",
    "models = {\n",
    "    \"Linear Regression\": linear_model.LinearRegression(),\n",
    "    \"LASSO Regression\": linear_model.Lasso(),\n",
    "    \"Decision Tree\": tree.DecisionTreeRegressor(),\n",
    "    \"Random Forrest\": ensemble.RandomForestRegressor(),\n",
    "    \"Gradient Boosted\": ensemble.GradientBoostingRegressor(),\n",
    "    \"XGBoost\": XGBRegressor(),\n",
    "}\n",
    "K = 8\n",
    "\n",
    "# Split into Train/Test\n",
    "X_train, X_test, y_train, y_test = model_selection.train_test_split(X,y)\n",
    "\n",
    "# Run the loop\n",
    "print(f\"Training {len(models)} models on {K} folds\")\n",
    "scores = {}\n",
    "for mname, m in models.items():\n",
    "    print(\"Training model:\", mname)\n",
    "    scores[mname] = []\n",
    "    for k, (X_train, X_val, y_train, y_val) in enumerate(kfold_data(X_train,y_train,K)):\n",
    "        m.fit(X_train,y_train)\n",
    "        s = m.score(X_val,y_val)\n",
    "        scores[mname].append(s)\n",
    "        print(f\"[{mname:17} | {k}] {s:.4f}\")\n",
    "    print()\n",
    "\n",
    "print(\"Results..\")\n",
    "for mname, m in models.items():\n",
    "    print(f\"[{mname:17}] μ={np.mean(scores[mname]):.4f} σ={np.std(scores[mname]):.4f}\")"
   ]
  },
  {
   "cell_type": "code",
   "execution_count": 147,
   "metadata": {},
   "outputs": [],
   "source": [
    "import itertools as it"
   ]
  },
  {
   "cell_type": "code",
   "execution_count": 154,
   "metadata": {},
   "outputs": [
    {
     "output_type": "execute_result",
     "data": {
      "text/plain": [
       "               model     score\n",
       "0  Linear Regression  0.096557\n",
       "1  Linear Regression -0.248348\n",
       "2  Linear Regression  0.444047\n",
       "3  Linear Regression  0.438124\n",
       "4  Linear Regression  0.757945"
      ],
      "text/html": "<div>\n<style scoped>\n    .dataframe tbody tr th:only-of-type {\n        vertical-align: middle;\n    }\n\n    .dataframe tbody tr th {\n        vertical-align: top;\n    }\n\n    .dataframe thead th {\n        text-align: right;\n    }\n</style>\n<table border=\"1\" class=\"dataframe\">\n  <thead>\n    <tr style=\"text-align: right;\">\n      <th></th>\n      <th>model</th>\n      <th>score</th>\n    </tr>\n  </thead>\n  <tbody>\n    <tr>\n      <th>0</th>\n      <td>Linear Regression</td>\n      <td>0.096557</td>\n    </tr>\n    <tr>\n      <th>1</th>\n      <td>Linear Regression</td>\n      <td>-0.248348</td>\n    </tr>\n    <tr>\n      <th>2</th>\n      <td>Linear Regression</td>\n      <td>0.444047</td>\n    </tr>\n    <tr>\n      <th>3</th>\n      <td>Linear Regression</td>\n      <td>0.438124</td>\n    </tr>\n    <tr>\n      <th>4</th>\n      <td>Linear Regression</td>\n      <td>0.757945</td>\n    </tr>\n  </tbody>\n</table>\n</div>"
     },
     "metadata": {},
     "execution_count": 154
    }
   ],
   "source": [
    "results = pd.DataFrame(it.chain(*[[{\"model\":k,\"score\":n} for n in v] for k, v in scores.items()]))\n",
    "results.head()"
   ]
  },
  {
   "cell_type": "code",
   "execution_count": 170,
   "metadata": {},
   "outputs": [
    {
     "output_type": "display_data",
     "data": {
      "text/plain": "<Figure size 864x432 with 1 Axes>",
      "image/svg+xml": "<?xml version=\"1.0\" encoding=\"utf-8\" standalone=\"no\"?>\n<!DOCTYPE svg PUBLIC \"-//W3C//DTD SVG 1.1//EN\"\n  \"http://www.w3.org/Graphics/SVG/1.1/DTD/svg11.dtd\">\n<!-- Created with matplotlib (https://matplotlib.org/) -->\n<svg height=\"391.437812pt\" version=\"1.1\" viewBox=\"0 0 793.684219 391.437812\" width=\"793.684219pt\" xmlns=\"http://www.w3.org/2000/svg\" xmlns:xlink=\"http://www.w3.org/1999/xlink\">\n <metadata>\n  <rdf:RDF xmlns:cc=\"http://creativecommons.org/ns#\" xmlns:dc=\"http://purl.org/dc/elements/1.1/\" xmlns:rdf=\"http://www.w3.org/1999/02/22-rdf-syntax-ns#\">\n   <cc:Work>\n    <dc:type rdf:resource=\"http://purl.org/dc/dcmitype/StillImage\"/>\n    <dc:date>2021-02-04T17:20:15.703698</dc:date>\n    <dc:format>image/svg+xml</dc:format>\n    <dc:creator>\n     <cc:Agent>\n      <dc:title>Matplotlib v3.3.1, https://matplotlib.org/</dc:title>\n     </cc:Agent>\n    </dc:creator>\n   </cc:Work>\n  </rdf:RDF>\n </metadata>\n <defs>\n  <style type=\"text/css\">*{stroke-linecap:butt;stroke-linejoin:round;}</style>\n </defs>\n <g id=\"figure_1\">\n  <g id=\"patch_1\">\n   <path d=\"M 0 391.437812 \nL 793.684219 391.437812 \nL 793.684219 0 \nL 0 0 \nz\n\" style=\"fill:#ffffff;\"/>\n  </g>\n  <g id=\"axes_1\">\n   <g id=\"patch_2\">\n    <path d=\"M 116.884219 348.478125 \nL 786.484219 348.478125 \nL 786.484219 22.318125 \nL 116.884219 22.318125 \nz\n\" style=\"fill:#eaeaf2;\"/>\n   </g>\n   <g id=\"matplotlib.axis_1\">\n    <g id=\"xtick_1\">\n     <g id=\"line2d_1\">\n      <path clip-path=\"url(#pde892e7380)\" d=\"M 116.884219 348.478125 \nL 116.884219 22.318125 \n\" style=\"fill:none;stroke:#ffffff;stroke-linecap:round;\"/>\n     </g>\n     <g id=\"text_1\">\n      <!-- 0.0 -->\n      <g style=\"fill:#262626;\" transform=\"translate(108.1375 366.336406)scale(0.11 -0.11)\">\n       <defs>\n        <path d=\"M 31.78125 66.40625 \nQ 24.171875 66.40625 20.328125 58.90625 \nQ 16.5 51.421875 16.5 36.375 \nQ 16.5 21.390625 20.328125 13.890625 \nQ 24.171875 6.390625 31.78125 6.390625 \nQ 39.453125 6.390625 43.28125 13.890625 \nQ 47.125 21.390625 47.125 36.375 \nQ 47.125 51.421875 43.28125 58.90625 \nQ 39.453125 66.40625 31.78125 66.40625 \nz\nM 31.78125 74.21875 \nQ 44.046875 74.21875 50.515625 64.515625 \nQ 56.984375 54.828125 56.984375 36.375 \nQ 56.984375 17.96875 50.515625 8.265625 \nQ 44.046875 -1.421875 31.78125 -1.421875 \nQ 19.53125 -1.421875 13.0625 8.265625 \nQ 6.59375 17.96875 6.59375 36.375 \nQ 6.59375 54.828125 13.0625 64.515625 \nQ 19.53125 74.21875 31.78125 74.21875 \nz\n\" id=\"DejaVuSans-48\"/>\n        <path d=\"M 10.6875 12.40625 \nL 21 12.40625 \nL 21 0 \nL 10.6875 0 \nz\n\" id=\"DejaVuSans-46\"/>\n       </defs>\n       <use xlink:href=\"#DejaVuSans-48\"/>\n       <use x=\"63.623047\" xlink:href=\"#DejaVuSans-46\"/>\n       <use x=\"95.410156\" xlink:href=\"#DejaVuSans-48\"/>\n      </g>\n     </g>\n    </g>\n    <g id=\"xtick_2\">\n     <g id=\"line2d_2\">\n      <path clip-path=\"url(#pde892e7380)\" d=\"M 259.126641 348.478125 \nL 259.126641 22.318125 \n\" style=\"fill:none;stroke:#ffffff;stroke-linecap:round;\"/>\n     </g>\n     <g id=\"text_2\">\n      <!-- 0.2 -->\n      <g style=\"fill:#262626;\" transform=\"translate(250.379922 366.336406)scale(0.11 -0.11)\">\n       <defs>\n        <path d=\"M 19.1875 8.296875 \nL 53.609375 8.296875 \nL 53.609375 0 \nL 7.328125 0 \nL 7.328125 8.296875 \nQ 12.9375 14.109375 22.625 23.890625 \nQ 32.328125 33.6875 34.8125 36.53125 \nQ 39.546875 41.84375 41.421875 45.53125 \nQ 43.3125 49.21875 43.3125 52.78125 \nQ 43.3125 58.59375 39.234375 62.25 \nQ 35.15625 65.921875 28.609375 65.921875 \nQ 23.96875 65.921875 18.8125 64.3125 \nQ 13.671875 62.703125 7.8125 59.421875 \nL 7.8125 69.390625 \nQ 13.765625 71.78125 18.9375 73 \nQ 24.125 74.21875 28.421875 74.21875 \nQ 39.75 74.21875 46.484375 68.546875 \nQ 53.21875 62.890625 53.21875 53.421875 \nQ 53.21875 48.921875 51.53125 44.890625 \nQ 49.859375 40.875 45.40625 35.40625 \nQ 44.1875 33.984375 37.640625 27.21875 \nQ 31.109375 20.453125 19.1875 8.296875 \nz\n\" id=\"DejaVuSans-50\"/>\n       </defs>\n       <use xlink:href=\"#DejaVuSans-48\"/>\n       <use x=\"63.623047\" xlink:href=\"#DejaVuSans-46\"/>\n       <use x=\"95.410156\" xlink:href=\"#DejaVuSans-50\"/>\n      </g>\n     </g>\n    </g>\n    <g id=\"xtick_3\">\n     <g id=\"line2d_3\">\n      <path clip-path=\"url(#pde892e7380)\" d=\"M 401.369063 348.478125 \nL 401.369063 22.318125 \n\" style=\"fill:none;stroke:#ffffff;stroke-linecap:round;\"/>\n     </g>\n     <g id=\"text_3\">\n      <!-- 0.4 -->\n      <g style=\"fill:#262626;\" transform=\"translate(392.622344 366.336406)scale(0.11 -0.11)\">\n       <defs>\n        <path d=\"M 37.796875 64.3125 \nL 12.890625 25.390625 \nL 37.796875 25.390625 \nz\nM 35.203125 72.90625 \nL 47.609375 72.90625 \nL 47.609375 25.390625 \nL 58.015625 25.390625 \nL 58.015625 17.1875 \nL 47.609375 17.1875 \nL 47.609375 0 \nL 37.796875 0 \nL 37.796875 17.1875 \nL 4.890625 17.1875 \nL 4.890625 26.703125 \nz\n\" id=\"DejaVuSans-52\"/>\n       </defs>\n       <use xlink:href=\"#DejaVuSans-48\"/>\n       <use x=\"63.623047\" xlink:href=\"#DejaVuSans-46\"/>\n       <use x=\"95.410156\" xlink:href=\"#DejaVuSans-52\"/>\n      </g>\n     </g>\n    </g>\n    <g id=\"xtick_4\">\n     <g id=\"line2d_4\">\n      <path clip-path=\"url(#pde892e7380)\" d=\"M 543.611485 348.478125 \nL 543.611485 22.318125 \n\" style=\"fill:none;stroke:#ffffff;stroke-linecap:round;\"/>\n     </g>\n     <g id=\"text_4\">\n      <!-- 0.6 -->\n      <g style=\"fill:#262626;\" transform=\"translate(534.864766 366.336406)scale(0.11 -0.11)\">\n       <defs>\n        <path d=\"M 33.015625 40.375 \nQ 26.375 40.375 22.484375 35.828125 \nQ 18.609375 31.296875 18.609375 23.390625 \nQ 18.609375 15.53125 22.484375 10.953125 \nQ 26.375 6.390625 33.015625 6.390625 \nQ 39.65625 6.390625 43.53125 10.953125 \nQ 47.40625 15.53125 47.40625 23.390625 \nQ 47.40625 31.296875 43.53125 35.828125 \nQ 39.65625 40.375 33.015625 40.375 \nz\nM 52.59375 71.296875 \nL 52.59375 62.3125 \nQ 48.875 64.0625 45.09375 64.984375 \nQ 41.3125 65.921875 37.59375 65.921875 \nQ 27.828125 65.921875 22.671875 59.328125 \nQ 17.53125 52.734375 16.796875 39.40625 \nQ 19.671875 43.65625 24.015625 45.921875 \nQ 28.375 48.1875 33.59375 48.1875 \nQ 44.578125 48.1875 50.953125 41.515625 \nQ 57.328125 34.859375 57.328125 23.390625 \nQ 57.328125 12.15625 50.6875 5.359375 \nQ 44.046875 -1.421875 33.015625 -1.421875 \nQ 20.359375 -1.421875 13.671875 8.265625 \nQ 6.984375 17.96875 6.984375 36.375 \nQ 6.984375 53.65625 15.1875 63.9375 \nQ 23.390625 74.21875 37.203125 74.21875 \nQ 40.921875 74.21875 44.703125 73.484375 \nQ 48.484375 72.75 52.59375 71.296875 \nz\n\" id=\"DejaVuSans-54\"/>\n       </defs>\n       <use xlink:href=\"#DejaVuSans-48\"/>\n       <use x=\"63.623047\" xlink:href=\"#DejaVuSans-46\"/>\n       <use x=\"95.410156\" xlink:href=\"#DejaVuSans-54\"/>\n      </g>\n     </g>\n    </g>\n    <g id=\"xtick_5\">\n     <g id=\"line2d_5\">\n      <path clip-path=\"url(#pde892e7380)\" d=\"M 685.853907 348.478125 \nL 685.853907 22.318125 \n\" style=\"fill:none;stroke:#ffffff;stroke-linecap:round;\"/>\n     </g>\n     <g id=\"text_5\">\n      <!-- 0.8 -->\n      <g style=\"fill:#262626;\" transform=\"translate(677.107188 366.336406)scale(0.11 -0.11)\">\n       <defs>\n        <path d=\"M 31.78125 34.625 \nQ 24.75 34.625 20.71875 30.859375 \nQ 16.703125 27.09375 16.703125 20.515625 \nQ 16.703125 13.921875 20.71875 10.15625 \nQ 24.75 6.390625 31.78125 6.390625 \nQ 38.8125 6.390625 42.859375 10.171875 \nQ 46.921875 13.96875 46.921875 20.515625 \nQ 46.921875 27.09375 42.890625 30.859375 \nQ 38.875 34.625 31.78125 34.625 \nz\nM 21.921875 38.8125 \nQ 15.578125 40.375 12.03125 44.71875 \nQ 8.5 49.078125 8.5 55.328125 \nQ 8.5 64.0625 14.71875 69.140625 \nQ 20.953125 74.21875 31.78125 74.21875 \nQ 42.671875 74.21875 48.875 69.140625 \nQ 55.078125 64.0625 55.078125 55.328125 \nQ 55.078125 49.078125 51.53125 44.71875 \nQ 48 40.375 41.703125 38.8125 \nQ 48.828125 37.15625 52.796875 32.3125 \nQ 56.78125 27.484375 56.78125 20.515625 \nQ 56.78125 9.90625 50.3125 4.234375 \nQ 43.84375 -1.421875 31.78125 -1.421875 \nQ 19.734375 -1.421875 13.25 4.234375 \nQ 6.78125 9.90625 6.78125 20.515625 \nQ 6.78125 27.484375 10.78125 32.3125 \nQ 14.796875 37.15625 21.921875 38.8125 \nz\nM 18.3125 54.390625 \nQ 18.3125 48.734375 21.84375 45.5625 \nQ 25.390625 42.390625 31.78125 42.390625 \nQ 38.140625 42.390625 41.71875 45.5625 \nQ 45.3125 48.734375 45.3125 54.390625 \nQ 45.3125 60.0625 41.71875 63.234375 \nQ 38.140625 66.40625 31.78125 66.40625 \nQ 25.390625 66.40625 21.84375 63.234375 \nQ 18.3125 60.0625 18.3125 54.390625 \nz\n\" id=\"DejaVuSans-56\"/>\n       </defs>\n       <use xlink:href=\"#DejaVuSans-48\"/>\n       <use x=\"63.623047\" xlink:href=\"#DejaVuSans-46\"/>\n       <use x=\"95.410156\" xlink:href=\"#DejaVuSans-56\"/>\n      </g>\n     </g>\n    </g>\n    <g id=\"text_6\">\n     <!-- Validation Score (Error bar = STD) -->\n     <g style=\"fill:#262626;\" transform=\"translate(349.340156 381.742187)scale(0.12 -0.12)\">\n      <defs>\n       <path d=\"M 28.609375 0 \nL 0.78125 72.90625 \nL 11.078125 72.90625 \nL 34.1875 11.53125 \nL 57.328125 72.90625 \nL 67.578125 72.90625 \nL 39.796875 0 \nz\n\" id=\"DejaVuSans-86\"/>\n       <path d=\"M 34.28125 27.484375 \nQ 23.390625 27.484375 19.1875 25 \nQ 14.984375 22.515625 14.984375 16.5 \nQ 14.984375 11.71875 18.140625 8.90625 \nQ 21.296875 6.109375 26.703125 6.109375 \nQ 34.1875 6.109375 38.703125 11.40625 \nQ 43.21875 16.703125 43.21875 25.484375 \nL 43.21875 27.484375 \nz\nM 52.203125 31.203125 \nL 52.203125 0 \nL 43.21875 0 \nL 43.21875 8.296875 \nQ 40.140625 3.328125 35.546875 0.953125 \nQ 30.953125 -1.421875 24.3125 -1.421875 \nQ 15.921875 -1.421875 10.953125 3.296875 \nQ 6 8.015625 6 15.921875 \nQ 6 25.140625 12.171875 29.828125 \nQ 18.359375 34.515625 30.609375 34.515625 \nL 43.21875 34.515625 \nL 43.21875 35.40625 \nQ 43.21875 41.609375 39.140625 45 \nQ 35.0625 48.390625 27.6875 48.390625 \nQ 23 48.390625 18.546875 47.265625 \nQ 14.109375 46.140625 10.015625 43.890625 \nL 10.015625 52.203125 \nQ 14.9375 54.109375 19.578125 55.046875 \nQ 24.21875 56 28.609375 56 \nQ 40.484375 56 46.34375 49.84375 \nQ 52.203125 43.703125 52.203125 31.203125 \nz\n\" id=\"DejaVuSans-97\"/>\n       <path d=\"M 9.421875 75.984375 \nL 18.40625 75.984375 \nL 18.40625 0 \nL 9.421875 0 \nz\n\" id=\"DejaVuSans-108\"/>\n       <path d=\"M 9.421875 54.6875 \nL 18.40625 54.6875 \nL 18.40625 0 \nL 9.421875 0 \nz\nM 9.421875 75.984375 \nL 18.40625 75.984375 \nL 18.40625 64.59375 \nL 9.421875 64.59375 \nz\n\" id=\"DejaVuSans-105\"/>\n       <path d=\"M 45.40625 46.390625 \nL 45.40625 75.984375 \nL 54.390625 75.984375 \nL 54.390625 0 \nL 45.40625 0 \nL 45.40625 8.203125 \nQ 42.578125 3.328125 38.25 0.953125 \nQ 33.9375 -1.421875 27.875 -1.421875 \nQ 17.96875 -1.421875 11.734375 6.484375 \nQ 5.515625 14.40625 5.515625 27.296875 \nQ 5.515625 40.1875 11.734375 48.09375 \nQ 17.96875 56 27.875 56 \nQ 33.9375 56 38.25 53.625 \nQ 42.578125 51.265625 45.40625 46.390625 \nz\nM 14.796875 27.296875 \nQ 14.796875 17.390625 18.875 11.75 \nQ 22.953125 6.109375 30.078125 6.109375 \nQ 37.203125 6.109375 41.296875 11.75 \nQ 45.40625 17.390625 45.40625 27.296875 \nQ 45.40625 37.203125 41.296875 42.84375 \nQ 37.203125 48.484375 30.078125 48.484375 \nQ 22.953125 48.484375 18.875 42.84375 \nQ 14.796875 37.203125 14.796875 27.296875 \nz\n\" id=\"DejaVuSans-100\"/>\n       <path d=\"M 18.3125 70.21875 \nL 18.3125 54.6875 \nL 36.8125 54.6875 \nL 36.8125 47.703125 \nL 18.3125 47.703125 \nL 18.3125 18.015625 \nQ 18.3125 11.328125 20.140625 9.421875 \nQ 21.96875 7.515625 27.59375 7.515625 \nL 36.8125 7.515625 \nL 36.8125 0 \nL 27.59375 0 \nQ 17.1875 0 13.234375 3.875 \nQ 9.28125 7.765625 9.28125 18.015625 \nL 9.28125 47.703125 \nL 2.6875 47.703125 \nL 2.6875 54.6875 \nL 9.28125 54.6875 \nL 9.28125 70.21875 \nz\n\" id=\"DejaVuSans-116\"/>\n       <path d=\"M 30.609375 48.390625 \nQ 23.390625 48.390625 19.1875 42.75 \nQ 14.984375 37.109375 14.984375 27.296875 \nQ 14.984375 17.484375 19.15625 11.84375 \nQ 23.34375 6.203125 30.609375 6.203125 \nQ 37.796875 6.203125 41.984375 11.859375 \nQ 46.1875 17.53125 46.1875 27.296875 \nQ 46.1875 37.015625 41.984375 42.703125 \nQ 37.796875 48.390625 30.609375 48.390625 \nz\nM 30.609375 56 \nQ 42.328125 56 49.015625 48.375 \nQ 55.71875 40.765625 55.71875 27.296875 \nQ 55.71875 13.875 49.015625 6.21875 \nQ 42.328125 -1.421875 30.609375 -1.421875 \nQ 18.84375 -1.421875 12.171875 6.21875 \nQ 5.515625 13.875 5.515625 27.296875 \nQ 5.515625 40.765625 12.171875 48.375 \nQ 18.84375 56 30.609375 56 \nz\n\" id=\"DejaVuSans-111\"/>\n       <path d=\"M 54.890625 33.015625 \nL 54.890625 0 \nL 45.90625 0 \nL 45.90625 32.71875 \nQ 45.90625 40.484375 42.875 44.328125 \nQ 39.84375 48.1875 33.796875 48.1875 \nQ 26.515625 48.1875 22.3125 43.546875 \nQ 18.109375 38.921875 18.109375 30.90625 \nL 18.109375 0 \nL 9.078125 0 \nL 9.078125 54.6875 \nL 18.109375 54.6875 \nL 18.109375 46.1875 \nQ 21.34375 51.125 25.703125 53.5625 \nQ 30.078125 56 35.796875 56 \nQ 45.21875 56 50.046875 50.171875 \nQ 54.890625 44.34375 54.890625 33.015625 \nz\n\" id=\"DejaVuSans-110\"/>\n       <path id=\"DejaVuSans-32\"/>\n       <path d=\"M 53.515625 70.515625 \nL 53.515625 60.890625 \nQ 47.90625 63.578125 42.921875 64.890625 \nQ 37.9375 66.21875 33.296875 66.21875 \nQ 25.25 66.21875 20.875 63.09375 \nQ 16.5 59.96875 16.5 54.203125 \nQ 16.5 49.359375 19.40625 46.890625 \nQ 22.3125 44.4375 30.421875 42.921875 \nL 36.375 41.703125 \nQ 47.40625 39.59375 52.65625 34.296875 \nQ 57.90625 29 57.90625 20.125 \nQ 57.90625 9.515625 50.796875 4.046875 \nQ 43.703125 -1.421875 29.984375 -1.421875 \nQ 24.8125 -1.421875 18.96875 -0.25 \nQ 13.140625 0.921875 6.890625 3.21875 \nL 6.890625 13.375 \nQ 12.890625 10.015625 18.65625 8.296875 \nQ 24.421875 6.59375 29.984375 6.59375 \nQ 38.421875 6.59375 43.015625 9.90625 \nQ 47.609375 13.234375 47.609375 19.390625 \nQ 47.609375 24.75 44.3125 27.78125 \nQ 41.015625 30.8125 33.5 32.328125 \nL 27.484375 33.5 \nQ 16.453125 35.6875 11.515625 40.375 \nQ 6.59375 45.0625 6.59375 53.421875 \nQ 6.59375 63.09375 13.40625 68.65625 \nQ 20.21875 74.21875 32.171875 74.21875 \nQ 37.3125 74.21875 42.625 73.28125 \nQ 47.953125 72.359375 53.515625 70.515625 \nz\n\" id=\"DejaVuSans-83\"/>\n       <path d=\"M 48.78125 52.59375 \nL 48.78125 44.1875 \nQ 44.96875 46.296875 41.140625 47.34375 \nQ 37.3125 48.390625 33.40625 48.390625 \nQ 24.65625 48.390625 19.8125 42.84375 \nQ 14.984375 37.3125 14.984375 27.296875 \nQ 14.984375 17.28125 19.8125 11.734375 \nQ 24.65625 6.203125 33.40625 6.203125 \nQ 37.3125 6.203125 41.140625 7.25 \nQ 44.96875 8.296875 48.78125 10.40625 \nL 48.78125 2.09375 \nQ 45.015625 0.34375 40.984375 -0.53125 \nQ 36.96875 -1.421875 32.421875 -1.421875 \nQ 20.0625 -1.421875 12.78125 6.34375 \nQ 5.515625 14.109375 5.515625 27.296875 \nQ 5.515625 40.671875 12.859375 48.328125 \nQ 20.21875 56 33.015625 56 \nQ 37.15625 56 41.109375 55.140625 \nQ 45.0625 54.296875 48.78125 52.59375 \nz\n\" id=\"DejaVuSans-99\"/>\n       <path d=\"M 41.109375 46.296875 \nQ 39.59375 47.171875 37.8125 47.578125 \nQ 36.03125 48 33.890625 48 \nQ 26.265625 48 22.1875 43.046875 \nQ 18.109375 38.09375 18.109375 28.8125 \nL 18.109375 0 \nL 9.078125 0 \nL 9.078125 54.6875 \nL 18.109375 54.6875 \nL 18.109375 46.1875 \nQ 20.953125 51.171875 25.484375 53.578125 \nQ 30.03125 56 36.53125 56 \nQ 37.453125 56 38.578125 55.875 \nQ 39.703125 55.765625 41.0625 55.515625 \nz\n\" id=\"DejaVuSans-114\"/>\n       <path d=\"M 56.203125 29.59375 \nL 56.203125 25.203125 \nL 14.890625 25.203125 \nQ 15.484375 15.921875 20.484375 11.0625 \nQ 25.484375 6.203125 34.421875 6.203125 \nQ 39.59375 6.203125 44.453125 7.46875 \nQ 49.3125 8.734375 54.109375 11.28125 \nL 54.109375 2.78125 \nQ 49.265625 0.734375 44.1875 -0.34375 \nQ 39.109375 -1.421875 33.890625 -1.421875 \nQ 20.796875 -1.421875 13.15625 6.1875 \nQ 5.515625 13.8125 5.515625 26.8125 \nQ 5.515625 40.234375 12.765625 48.109375 \nQ 20.015625 56 32.328125 56 \nQ 43.359375 56 49.78125 48.890625 \nQ 56.203125 41.796875 56.203125 29.59375 \nz\nM 47.21875 32.234375 \nQ 47.125 39.59375 43.09375 43.984375 \nQ 39.0625 48.390625 32.421875 48.390625 \nQ 24.90625 48.390625 20.390625 44.140625 \nQ 15.875 39.890625 15.1875 32.171875 \nz\n\" id=\"DejaVuSans-101\"/>\n       <path d=\"M 31 75.875 \nQ 24.46875 64.65625 21.28125 53.65625 \nQ 18.109375 42.671875 18.109375 31.390625 \nQ 18.109375 20.125 21.3125 9.0625 \nQ 24.515625 -2 31 -13.1875 \nL 23.1875 -13.1875 \nQ 15.875 -1.703125 12.234375 9.375 \nQ 8.59375 20.453125 8.59375 31.390625 \nQ 8.59375 42.28125 12.203125 53.3125 \nQ 15.828125 64.359375 23.1875 75.875 \nz\n\" id=\"DejaVuSans-40\"/>\n       <path d=\"M 9.8125 72.90625 \nL 55.90625 72.90625 \nL 55.90625 64.59375 \nL 19.671875 64.59375 \nL 19.671875 43.015625 \nL 54.390625 43.015625 \nL 54.390625 34.71875 \nL 19.671875 34.71875 \nL 19.671875 8.296875 \nL 56.78125 8.296875 \nL 56.78125 0 \nL 9.8125 0 \nz\n\" id=\"DejaVuSans-69\"/>\n       <path d=\"M 48.6875 27.296875 \nQ 48.6875 37.203125 44.609375 42.84375 \nQ 40.53125 48.484375 33.40625 48.484375 \nQ 26.265625 48.484375 22.1875 42.84375 \nQ 18.109375 37.203125 18.109375 27.296875 \nQ 18.109375 17.390625 22.1875 11.75 \nQ 26.265625 6.109375 33.40625 6.109375 \nQ 40.53125 6.109375 44.609375 11.75 \nQ 48.6875 17.390625 48.6875 27.296875 \nz\nM 18.109375 46.390625 \nQ 20.953125 51.265625 25.265625 53.625 \nQ 29.59375 56 35.59375 56 \nQ 45.5625 56 51.78125 48.09375 \nQ 58.015625 40.1875 58.015625 27.296875 \nQ 58.015625 14.40625 51.78125 6.484375 \nQ 45.5625 -1.421875 35.59375 -1.421875 \nQ 29.59375 -1.421875 25.265625 0.953125 \nQ 20.953125 3.328125 18.109375 8.203125 \nL 18.109375 0 \nL 9.078125 0 \nL 9.078125 75.984375 \nL 18.109375 75.984375 \nz\n\" id=\"DejaVuSans-98\"/>\n       <path d=\"M 10.59375 45.40625 \nL 73.1875 45.40625 \nL 73.1875 37.203125 \nL 10.59375 37.203125 \nz\nM 10.59375 25.484375 \nL 73.1875 25.484375 \nL 73.1875 17.1875 \nL 10.59375 17.1875 \nz\n\" id=\"DejaVuSans-61\"/>\n       <path d=\"M -0.296875 72.90625 \nL 61.375 72.90625 \nL 61.375 64.59375 \nL 35.5 64.59375 \nL 35.5 0 \nL 25.59375 0 \nL 25.59375 64.59375 \nL -0.296875 64.59375 \nz\n\" id=\"DejaVuSans-84\"/>\n       <path d=\"M 19.671875 64.796875 \nL 19.671875 8.109375 \nL 31.59375 8.109375 \nQ 46.6875 8.109375 53.6875 14.9375 \nQ 60.6875 21.78125 60.6875 36.53125 \nQ 60.6875 51.171875 53.6875 57.984375 \nQ 46.6875 64.796875 31.59375 64.796875 \nz\nM 9.8125 72.90625 \nL 30.078125 72.90625 \nQ 51.265625 72.90625 61.171875 64.09375 \nQ 71.09375 55.28125 71.09375 36.53125 \nQ 71.09375 17.671875 61.125 8.828125 \nQ 51.171875 0 30.078125 0 \nL 9.8125 0 \nz\n\" id=\"DejaVuSans-68\"/>\n       <path d=\"M 8.015625 75.875 \nL 15.828125 75.875 \nQ 23.140625 64.359375 26.78125 53.3125 \nQ 30.421875 42.28125 30.421875 31.390625 \nQ 30.421875 20.453125 26.78125 9.375 \nQ 23.140625 -1.703125 15.828125 -13.1875 \nL 8.015625 -13.1875 \nQ 14.5 -2 17.703125 9.0625 \nQ 20.90625 20.125 20.90625 31.390625 \nQ 20.90625 42.671875 17.703125 53.65625 \nQ 14.5 64.65625 8.015625 75.875 \nz\n\" id=\"DejaVuSans-41\"/>\n      </defs>\n      <use xlink:href=\"#DejaVuSans-86\"/>\n      <use x=\"60.658203\" xlink:href=\"#DejaVuSans-97\"/>\n      <use x=\"121.9375\" xlink:href=\"#DejaVuSans-108\"/>\n      <use x=\"149.720703\" xlink:href=\"#DejaVuSans-105\"/>\n      <use x=\"177.503906\" xlink:href=\"#DejaVuSans-100\"/>\n      <use x=\"240.980469\" xlink:href=\"#DejaVuSans-97\"/>\n      <use x=\"302.259766\" xlink:href=\"#DejaVuSans-116\"/>\n      <use x=\"341.46875\" xlink:href=\"#DejaVuSans-105\"/>\n      <use x=\"369.251953\" xlink:href=\"#DejaVuSans-111\"/>\n      <use x=\"430.433594\" xlink:href=\"#DejaVuSans-110\"/>\n      <use x=\"493.8125\" xlink:href=\"#DejaVuSans-32\"/>\n      <use x=\"525.599609\" xlink:href=\"#DejaVuSans-83\"/>\n      <use x=\"589.076172\" xlink:href=\"#DejaVuSans-99\"/>\n      <use x=\"644.056641\" xlink:href=\"#DejaVuSans-111\"/>\n      <use x=\"705.238281\" xlink:href=\"#DejaVuSans-114\"/>\n      <use x=\"744.101562\" xlink:href=\"#DejaVuSans-101\"/>\n      <use x=\"805.625\" xlink:href=\"#DejaVuSans-32\"/>\n      <use x=\"837.412109\" xlink:href=\"#DejaVuSans-40\"/>\n      <use x=\"876.425781\" xlink:href=\"#DejaVuSans-69\"/>\n      <use x=\"939.609375\" xlink:href=\"#DejaVuSans-114\"/>\n      <use x=\"978.972656\" xlink:href=\"#DejaVuSans-114\"/>\n      <use x=\"1017.835938\" xlink:href=\"#DejaVuSans-111\"/>\n      <use x=\"1079.017578\" xlink:href=\"#DejaVuSans-114\"/>\n      <use x=\"1120.130859\" xlink:href=\"#DejaVuSans-32\"/>\n      <use x=\"1151.917969\" xlink:href=\"#DejaVuSans-98\"/>\n      <use x=\"1215.394531\" xlink:href=\"#DejaVuSans-97\"/>\n      <use x=\"1276.673828\" xlink:href=\"#DejaVuSans-114\"/>\n      <use x=\"1317.787109\" xlink:href=\"#DejaVuSans-32\"/>\n      <use x=\"1349.574219\" xlink:href=\"#DejaVuSans-61\"/>\n      <use x=\"1433.363281\" xlink:href=\"#DejaVuSans-32\"/>\n      <use x=\"1465.150391\" xlink:href=\"#DejaVuSans-83\"/>\n      <use x=\"1528.626953\" xlink:href=\"#DejaVuSans-84\"/>\n      <use x=\"1589.710938\" xlink:href=\"#DejaVuSans-68\"/>\n      <use x=\"1666.712891\" xlink:href=\"#DejaVuSans-41\"/>\n     </g>\n    </g>\n   </g>\n   <g id=\"matplotlib.axis_2\">\n    <g id=\"ytick_1\">\n     <g id=\"text_7\">\n      <!-- Linear Regression -->\n      <g style=\"fill:#262626;\" transform=\"translate(9.539219 53.677266)scale(0.11 -0.11)\">\n       <defs>\n        <path d=\"M 9.8125 72.90625 \nL 19.671875 72.90625 \nL 19.671875 8.296875 \nL 55.171875 8.296875 \nL 55.171875 0 \nL 9.8125 0 \nz\n\" id=\"DejaVuSans-76\"/>\n        <path d=\"M 44.390625 34.1875 \nQ 47.5625 33.109375 50.5625 29.59375 \nQ 53.5625 26.078125 56.59375 19.921875 \nL 66.609375 0 \nL 56 0 \nL 46.6875 18.703125 \nQ 43.0625 26.03125 39.671875 28.421875 \nQ 36.28125 30.8125 30.421875 30.8125 \nL 19.671875 30.8125 \nL 19.671875 0 \nL 9.8125 0 \nL 9.8125 72.90625 \nL 32.078125 72.90625 \nQ 44.578125 72.90625 50.734375 67.671875 \nQ 56.890625 62.453125 56.890625 51.90625 \nQ 56.890625 45.015625 53.6875 40.46875 \nQ 50.484375 35.9375 44.390625 34.1875 \nz\nM 19.671875 64.796875 \nL 19.671875 38.921875 \nL 32.078125 38.921875 \nQ 39.203125 38.921875 42.84375 42.21875 \nQ 46.484375 45.515625 46.484375 51.90625 \nQ 46.484375 58.296875 42.84375 61.546875 \nQ 39.203125 64.796875 32.078125 64.796875 \nz\n\" id=\"DejaVuSans-82\"/>\n        <path d=\"M 45.40625 27.984375 \nQ 45.40625 37.75 41.375 43.109375 \nQ 37.359375 48.484375 30.078125 48.484375 \nQ 22.859375 48.484375 18.828125 43.109375 \nQ 14.796875 37.75 14.796875 27.984375 \nQ 14.796875 18.265625 18.828125 12.890625 \nQ 22.859375 7.515625 30.078125 7.515625 \nQ 37.359375 7.515625 41.375 12.890625 \nQ 45.40625 18.265625 45.40625 27.984375 \nz\nM 54.390625 6.78125 \nQ 54.390625 -7.171875 48.1875 -13.984375 \nQ 42 -20.796875 29.203125 -20.796875 \nQ 24.46875 -20.796875 20.265625 -20.09375 \nQ 16.0625 -19.390625 12.109375 -17.921875 \nL 12.109375 -9.1875 \nQ 16.0625 -11.328125 19.921875 -12.34375 \nQ 23.78125 -13.375 27.78125 -13.375 \nQ 36.625 -13.375 41.015625 -8.765625 \nQ 45.40625 -4.15625 45.40625 5.171875 \nL 45.40625 9.625 \nQ 42.625 4.78125 38.28125 2.390625 \nQ 33.9375 0 27.875 0 \nQ 17.828125 0 11.671875 7.65625 \nQ 5.515625 15.328125 5.515625 27.984375 \nQ 5.515625 40.671875 11.671875 48.328125 \nQ 17.828125 56 27.875 56 \nQ 33.9375 56 38.28125 53.609375 \nQ 42.625 51.21875 45.40625 46.390625 \nL 45.40625 54.6875 \nL 54.390625 54.6875 \nz\n\" id=\"DejaVuSans-103\"/>\n        <path d=\"M 44.28125 53.078125 \nL 44.28125 44.578125 \nQ 40.484375 46.53125 36.375 47.5 \nQ 32.28125 48.484375 27.875 48.484375 \nQ 21.1875 48.484375 17.84375 46.4375 \nQ 14.5 44.390625 14.5 40.28125 \nQ 14.5 37.15625 16.890625 35.375 \nQ 19.28125 33.59375 26.515625 31.984375 \nL 29.59375 31.296875 \nQ 39.15625 29.25 43.1875 25.515625 \nQ 47.21875 21.78125 47.21875 15.09375 \nQ 47.21875 7.46875 41.1875 3.015625 \nQ 35.15625 -1.421875 24.609375 -1.421875 \nQ 20.21875 -1.421875 15.453125 -0.5625 \nQ 10.6875 0.296875 5.421875 2 \nL 5.421875 11.28125 \nQ 10.40625 8.6875 15.234375 7.390625 \nQ 20.0625 6.109375 24.8125 6.109375 \nQ 31.15625 6.109375 34.5625 8.28125 \nQ 37.984375 10.453125 37.984375 14.40625 \nQ 37.984375 18.0625 35.515625 20.015625 \nQ 33.0625 21.96875 24.703125 23.78125 \nL 21.578125 24.515625 \nQ 13.234375 26.265625 9.515625 29.90625 \nQ 5.8125 33.546875 5.8125 39.890625 \nQ 5.8125 47.609375 11.28125 51.796875 \nQ 16.75 56 26.8125 56 \nQ 31.78125 56 36.171875 55.265625 \nQ 40.578125 54.546875 44.28125 53.078125 \nz\n\" id=\"DejaVuSans-115\"/>\n       </defs>\n       <use xlink:href=\"#DejaVuSans-76\"/>\n       <use x=\"55.712891\" xlink:href=\"#DejaVuSans-105\"/>\n       <use x=\"83.496094\" xlink:href=\"#DejaVuSans-110\"/>\n       <use x=\"146.875\" xlink:href=\"#DejaVuSans-101\"/>\n       <use x=\"208.398438\" xlink:href=\"#DejaVuSans-97\"/>\n       <use x=\"269.677734\" xlink:href=\"#DejaVuSans-114\"/>\n       <use x=\"310.791016\" xlink:href=\"#DejaVuSans-32\"/>\n       <use x=\"342.578125\" xlink:href=\"#DejaVuSans-82\"/>\n       <use x=\"407.560547\" xlink:href=\"#DejaVuSans-101\"/>\n       <use x=\"469.083984\" xlink:href=\"#DejaVuSans-103\"/>\n       <use x=\"532.560547\" xlink:href=\"#DejaVuSans-114\"/>\n       <use x=\"571.423828\" xlink:href=\"#DejaVuSans-101\"/>\n       <use x=\"632.947266\" xlink:href=\"#DejaVuSans-115\"/>\n       <use x=\"685.046875\" xlink:href=\"#DejaVuSans-115\"/>\n       <use x=\"737.146484\" xlink:href=\"#DejaVuSans-105\"/>\n       <use x=\"764.929688\" xlink:href=\"#DejaVuSans-111\"/>\n       <use x=\"826.111328\" xlink:href=\"#DejaVuSans-110\"/>\n      </g>\n     </g>\n    </g>\n    <g id=\"ytick_2\">\n     <g id=\"text_8\">\n      <!-- LASSO Regression -->\n      <g style=\"fill:#262626;\" transform=\"translate(7.2 108.037266)scale(0.11 -0.11)\">\n       <defs>\n        <path d=\"M 34.1875 63.1875 \nL 20.796875 26.90625 \nL 47.609375 26.90625 \nz\nM 28.609375 72.90625 \nL 39.796875 72.90625 \nL 67.578125 0 \nL 57.328125 0 \nL 50.6875 18.703125 \nL 17.828125 18.703125 \nL 11.1875 0 \nL 0.78125 0 \nz\n\" id=\"DejaVuSans-65\"/>\n        <path d=\"M 39.40625 66.21875 \nQ 28.65625 66.21875 22.328125 58.203125 \nQ 16.015625 50.203125 16.015625 36.375 \nQ 16.015625 22.609375 22.328125 14.59375 \nQ 28.65625 6.59375 39.40625 6.59375 \nQ 50.140625 6.59375 56.421875 14.59375 \nQ 62.703125 22.609375 62.703125 36.375 \nQ 62.703125 50.203125 56.421875 58.203125 \nQ 50.140625 66.21875 39.40625 66.21875 \nz\nM 39.40625 74.21875 \nQ 54.734375 74.21875 63.90625 63.9375 \nQ 73.09375 53.65625 73.09375 36.375 \nQ 73.09375 19.140625 63.90625 8.859375 \nQ 54.734375 -1.421875 39.40625 -1.421875 \nQ 24.03125 -1.421875 14.8125 8.828125 \nQ 5.609375 19.09375 5.609375 36.375 \nQ 5.609375 53.65625 14.8125 63.9375 \nQ 24.03125 74.21875 39.40625 74.21875 \nz\n\" id=\"DejaVuSans-79\"/>\n       </defs>\n       <use xlink:href=\"#DejaVuSans-76\"/>\n       <use x=\"57.962891\" xlink:href=\"#DejaVuSans-65\"/>\n       <use x=\"126.371094\" xlink:href=\"#DejaVuSans-83\"/>\n       <use x=\"189.847656\" xlink:href=\"#DejaVuSans-83\"/>\n       <use x=\"253.324219\" xlink:href=\"#DejaVuSans-79\"/>\n       <use x=\"332.035156\" xlink:href=\"#DejaVuSans-32\"/>\n       <use x=\"363.822266\" xlink:href=\"#DejaVuSans-82\"/>\n       <use x=\"428.804688\" xlink:href=\"#DejaVuSans-101\"/>\n       <use x=\"490.328125\" xlink:href=\"#DejaVuSans-103\"/>\n       <use x=\"553.804688\" xlink:href=\"#DejaVuSans-114\"/>\n       <use x=\"592.667969\" xlink:href=\"#DejaVuSans-101\"/>\n       <use x=\"654.191406\" xlink:href=\"#DejaVuSans-115\"/>\n       <use x=\"706.291016\" xlink:href=\"#DejaVuSans-115\"/>\n       <use x=\"758.390625\" xlink:href=\"#DejaVuSans-105\"/>\n       <use x=\"786.173828\" xlink:href=\"#DejaVuSans-111\"/>\n       <use x=\"847.355469\" xlink:href=\"#DejaVuSans-110\"/>\n      </g>\n     </g>\n    </g>\n    <g id=\"ytick_3\">\n     <g id=\"text_9\">\n      <!-- Decision Tree -->\n      <g style=\"fill:#262626;\" transform=\"translate(34.15 162.397266)scale(0.11 -0.11)\">\n       <use xlink:href=\"#DejaVuSans-68\"/>\n       <use x=\"77.001953\" xlink:href=\"#DejaVuSans-101\"/>\n       <use x=\"138.525391\" xlink:href=\"#DejaVuSans-99\"/>\n       <use x=\"193.505859\" xlink:href=\"#DejaVuSans-105\"/>\n       <use x=\"221.289062\" xlink:href=\"#DejaVuSans-115\"/>\n       <use x=\"273.388672\" xlink:href=\"#DejaVuSans-105\"/>\n       <use x=\"301.171875\" xlink:href=\"#DejaVuSans-111\"/>\n       <use x=\"362.353516\" xlink:href=\"#DejaVuSans-110\"/>\n       <use x=\"425.732422\" xlink:href=\"#DejaVuSans-32\"/>\n       <use x=\"457.519531\" xlink:href=\"#DejaVuSans-84\"/>\n       <use x=\"503.853516\" xlink:href=\"#DejaVuSans-114\"/>\n       <use x=\"542.716797\" xlink:href=\"#DejaVuSans-101\"/>\n       <use x=\"604.240234\" xlink:href=\"#DejaVuSans-101\"/>\n      </g>\n     </g>\n    </g>\n    <g id=\"ytick_4\">\n     <g id=\"text_10\">\n      <!-- Random Forrest -->\n      <g style=\"fill:#262626;\" transform=\"translate(20.277969 216.757266)scale(0.11 -0.11)\">\n       <defs>\n        <path d=\"M 52 44.1875 \nQ 55.375 50.25 60.0625 53.125 \nQ 64.75 56 71.09375 56 \nQ 79.640625 56 84.28125 50.015625 \nQ 88.921875 44.046875 88.921875 33.015625 \nL 88.921875 0 \nL 79.890625 0 \nL 79.890625 32.71875 \nQ 79.890625 40.578125 77.09375 44.375 \nQ 74.3125 48.1875 68.609375 48.1875 \nQ 61.625 48.1875 57.5625 43.546875 \nQ 53.515625 38.921875 53.515625 30.90625 \nL 53.515625 0 \nL 44.484375 0 \nL 44.484375 32.71875 \nQ 44.484375 40.625 41.703125 44.40625 \nQ 38.921875 48.1875 33.109375 48.1875 \nQ 26.21875 48.1875 22.15625 43.53125 \nQ 18.109375 38.875 18.109375 30.90625 \nL 18.109375 0 \nL 9.078125 0 \nL 9.078125 54.6875 \nL 18.109375 54.6875 \nL 18.109375 46.1875 \nQ 21.1875 51.21875 25.484375 53.609375 \nQ 29.78125 56 35.6875 56 \nQ 41.65625 56 45.828125 52.96875 \nQ 50 49.953125 52 44.1875 \nz\n\" id=\"DejaVuSans-109\"/>\n        <path d=\"M 9.8125 72.90625 \nL 51.703125 72.90625 \nL 51.703125 64.59375 \nL 19.671875 64.59375 \nL 19.671875 43.109375 \nL 48.578125 43.109375 \nL 48.578125 34.8125 \nL 19.671875 34.8125 \nL 19.671875 0 \nL 9.8125 0 \nz\n\" id=\"DejaVuSans-70\"/>\n       </defs>\n       <use xlink:href=\"#DejaVuSans-82\"/>\n       <use x=\"67.232422\" xlink:href=\"#DejaVuSans-97\"/>\n       <use x=\"128.511719\" xlink:href=\"#DejaVuSans-110\"/>\n       <use x=\"191.890625\" xlink:href=\"#DejaVuSans-100\"/>\n       <use x=\"255.367188\" xlink:href=\"#DejaVuSans-111\"/>\n       <use x=\"316.548828\" xlink:href=\"#DejaVuSans-109\"/>\n       <use x=\"413.960938\" xlink:href=\"#DejaVuSans-32\"/>\n       <use x=\"445.748047\" xlink:href=\"#DejaVuSans-70\"/>\n       <use x=\"499.642578\" xlink:href=\"#DejaVuSans-111\"/>\n       <use x=\"560.824219\" xlink:href=\"#DejaVuSans-114\"/>\n       <use x=\"600.1875\" xlink:href=\"#DejaVuSans-114\"/>\n       <use x=\"639.050781\" xlink:href=\"#DejaVuSans-101\"/>\n       <use x=\"700.574219\" xlink:href=\"#DejaVuSans-115\"/>\n       <use x=\"752.673828\" xlink:href=\"#DejaVuSans-116\"/>\n      </g>\n     </g>\n    </g>\n    <g id=\"ytick_5\">\n     <g id=\"text_11\">\n      <!-- Gradient Boosted -->\n      <g style=\"fill:#262626;\" transform=\"translate(11.208125 271.117266)scale(0.11 -0.11)\">\n       <defs>\n        <path d=\"M 59.515625 10.40625 \nL 59.515625 29.984375 \nL 43.40625 29.984375 \nL 43.40625 38.09375 \nL 69.28125 38.09375 \nL 69.28125 6.78125 \nQ 63.578125 2.734375 56.6875 0.65625 \nQ 49.8125 -1.421875 42 -1.421875 \nQ 24.90625 -1.421875 15.25 8.5625 \nQ 5.609375 18.5625 5.609375 36.375 \nQ 5.609375 54.25 15.25 64.234375 \nQ 24.90625 74.21875 42 74.21875 \nQ 49.125 74.21875 55.546875 72.453125 \nQ 61.96875 70.703125 67.390625 67.28125 \nL 67.390625 56.78125 \nQ 61.921875 61.421875 55.765625 63.765625 \nQ 49.609375 66.109375 42.828125 66.109375 \nQ 29.4375 66.109375 22.71875 58.640625 \nQ 16.015625 51.171875 16.015625 36.375 \nQ 16.015625 21.625 22.71875 14.15625 \nQ 29.4375 6.6875 42.828125 6.6875 \nQ 48.046875 6.6875 52.140625 7.59375 \nQ 56.25 8.5 59.515625 10.40625 \nz\n\" id=\"DejaVuSans-71\"/>\n        <path d=\"M 19.671875 34.8125 \nL 19.671875 8.109375 \nL 35.5 8.109375 \nQ 43.453125 8.109375 47.28125 11.40625 \nQ 51.125 14.703125 51.125 21.484375 \nQ 51.125 28.328125 47.28125 31.5625 \nQ 43.453125 34.8125 35.5 34.8125 \nz\nM 19.671875 64.796875 \nL 19.671875 42.828125 \nL 34.28125 42.828125 \nQ 41.5 42.828125 45.03125 45.53125 \nQ 48.578125 48.25 48.578125 53.8125 \nQ 48.578125 59.328125 45.03125 62.0625 \nQ 41.5 64.796875 34.28125 64.796875 \nz\nM 9.8125 72.90625 \nL 35.015625 72.90625 \nQ 46.296875 72.90625 52.390625 68.21875 \nQ 58.5 63.53125 58.5 54.890625 \nQ 58.5 48.1875 55.375 44.234375 \nQ 52.25 40.28125 46.1875 39.3125 \nQ 53.46875 37.75 57.5 32.78125 \nQ 61.53125 27.828125 61.53125 20.40625 \nQ 61.53125 10.640625 54.890625 5.3125 \nQ 48.25 0 35.984375 0 \nL 9.8125 0 \nz\n\" id=\"DejaVuSans-66\"/>\n       </defs>\n       <use xlink:href=\"#DejaVuSans-71\"/>\n       <use x=\"77.490234\" xlink:href=\"#DejaVuSans-114\"/>\n       <use x=\"118.603516\" xlink:href=\"#DejaVuSans-97\"/>\n       <use x=\"179.882812\" xlink:href=\"#DejaVuSans-100\"/>\n       <use x=\"243.359375\" xlink:href=\"#DejaVuSans-105\"/>\n       <use x=\"271.142578\" xlink:href=\"#DejaVuSans-101\"/>\n       <use x=\"332.666016\" xlink:href=\"#DejaVuSans-110\"/>\n       <use x=\"396.044922\" xlink:href=\"#DejaVuSans-116\"/>\n       <use x=\"435.253906\" xlink:href=\"#DejaVuSans-32\"/>\n       <use x=\"467.041016\" xlink:href=\"#DejaVuSans-66\"/>\n       <use x=\"535.644531\" xlink:href=\"#DejaVuSans-111\"/>\n       <use x=\"596.826172\" xlink:href=\"#DejaVuSans-111\"/>\n       <use x=\"658.007812\" xlink:href=\"#DejaVuSans-115\"/>\n       <use x=\"710.107422\" xlink:href=\"#DejaVuSans-116\"/>\n       <use x=\"749.316406\" xlink:href=\"#DejaVuSans-101\"/>\n       <use x=\"810.839844\" xlink:href=\"#DejaVuSans-100\"/>\n      </g>\n     </g>\n    </g>\n    <g id=\"ytick_6\">\n     <g id=\"text_12\">\n      <!-- XGBoost -->\n      <g style=\"fill:#262626;\" transform=\"translate(60.275 325.477266)scale(0.11 -0.11)\">\n       <defs>\n        <path d=\"M 6.296875 72.90625 \nL 16.890625 72.90625 \nL 35.015625 45.796875 \nL 53.21875 72.90625 \nL 63.8125 72.90625 \nL 40.375 37.890625 \nL 65.375 0 \nL 54.78125 0 \nL 34.28125 31 \nL 13.625 0 \nL 2.984375 0 \nL 29 38.921875 \nz\n\" id=\"DejaVuSans-88\"/>\n       </defs>\n       <use xlink:href=\"#DejaVuSans-88\"/>\n       <use x=\"68.505859\" xlink:href=\"#DejaVuSans-71\"/>\n       <use x=\"145.996094\" xlink:href=\"#DejaVuSans-66\"/>\n       <use x=\"214.599609\" xlink:href=\"#DejaVuSans-111\"/>\n       <use x=\"275.78125\" xlink:href=\"#DejaVuSans-111\"/>\n       <use x=\"336.962891\" xlink:href=\"#DejaVuSans-115\"/>\n       <use x=\"389.0625\" xlink:href=\"#DejaVuSans-116\"/>\n      </g>\n     </g>\n    </g>\n   </g>\n   <g id=\"patch_3\">\n    <path clip-path=\"url(#pde892e7380)\" d=\"M 116.884219 27.754125 \nL 437.645722 27.754125 \nL 437.645722 71.242125 \nL 116.884219 71.242125 \nz\n\" style=\"fill:#5875a4;stroke:#ffffff;stroke-linejoin:miter;\"/>\n   </g>\n   <g id=\"patch_4\">\n    <path clip-path=\"url(#pde892e7380)\" d=\"M 116.884219 82.114125 \nL 707.923301 82.114125 \nL 707.923301 125.602125 \nL 116.884219 125.602125 \nz\n\" style=\"fill:#cc8963;stroke:#ffffff;stroke-linejoin:miter;\"/>\n   </g>\n   <g id=\"patch_5\">\n    <path clip-path=\"url(#pde892e7380)\" d=\"M 116.884219 136.474125 \nL 596.46246 136.474125 \nL 596.46246 179.962125 \nL 116.884219 179.962125 \nz\n\" style=\"fill:#5f9e6e;stroke:#ffffff;stroke-linejoin:miter;\"/>\n   </g>\n   <g id=\"patch_6\">\n    <path clip-path=\"url(#pde892e7380)\" d=\"M 116.884219 190.834125 \nL 686.52288 190.834125 \nL 686.52288 234.322125 \nL 116.884219 234.322125 \nz\n\" style=\"fill:#b55d60;stroke:#ffffff;stroke-linejoin:miter;\"/>\n   </g>\n   <g id=\"patch_7\">\n    <path clip-path=\"url(#pde892e7380)\" d=\"M 116.884219 245.194125 \nL 689.491364 245.194125 \nL 689.491364 288.682125 \nL 116.884219 288.682125 \nz\n\" style=\"fill:#857aab;stroke:#ffffff;stroke-linejoin:miter;\"/>\n   </g>\n   <g id=\"patch_8\">\n    <path clip-path=\"url(#pde892e7380)\" d=\"M 116.884219 299.554125 \nL 681.964707 299.554125 \nL 681.964707 343.042125 \nL 116.884219 343.042125 \nz\n\" style=\"fill:#8d7866;stroke:#ffffff;stroke-linejoin:miter;\"/>\n   </g>\n   <g id=\"line2d_6\">\n    <path clip-path=\"url(#pde892e7380)\" d=\"M 253.7317 49.498125 \nL 612.031031 49.498125 \n\" style=\"fill:none;stroke:#424242;stroke-linecap:round;stroke-width:2.7;\"/>\n   </g>\n   <g id=\"line2d_7\">\n    <path clip-path=\"url(#pde892e7380)\" d=\"M 629.112994 103.858125 \nL 754.598504 103.858125 \n\" style=\"fill:none;stroke:#424242;stroke-linecap:round;stroke-width:2.7;\"/>\n   </g>\n   <g id=\"line2d_8\">\n    <path clip-path=\"url(#pde892e7380)\" d=\"M 559.416151 158.218125 \nL 640.795183 158.218125 \n\" style=\"fill:none;stroke:#424242;stroke-linecap:round;stroke-width:2.7;\"/>\n   </g>\n   <g id=\"line2d_9\">\n    <path clip-path=\"url(#pde892e7380)\" d=\"M 639.762404 212.578125 \nL 723.56117 212.578125 \n\" style=\"fill:none;stroke:#424242;stroke-linecap:round;stroke-width:2.7;\"/>\n   </g>\n   <g id=\"line2d_10\">\n    <path clip-path=\"url(#pde892e7380)\" d=\"M 615.890977 266.938125 \nL 754.464591 266.938125 \n\" style=\"fill:none;stroke:#424242;stroke-linecap:round;stroke-width:2.7;\"/>\n   </g>\n   <g id=\"line2d_11\">\n    <path clip-path=\"url(#pde892e7380)\" d=\"M 633.610888 321.298125 \nL 720.497135 321.298125 \n\" style=\"fill:none;stroke:#424242;stroke-linecap:round;stroke-width:2.7;\"/>\n   </g>\n   <g id=\"patch_9\">\n    <path d=\"M 116.884219 348.478125 \nL 116.884219 22.318125 \n\" style=\"fill:none;stroke:#ffffff;stroke-linecap:square;stroke-linejoin:miter;stroke-width:1.25;\"/>\n   </g>\n   <g id=\"patch_10\">\n    <path d=\"M 786.484219 348.478125 \nL 786.484219 22.318125 \n\" style=\"fill:none;stroke:#ffffff;stroke-linecap:square;stroke-linejoin:miter;stroke-width:1.25;\"/>\n   </g>\n   <g id=\"patch_11\">\n    <path d=\"M 116.884219 348.478125 \nL 786.484219 348.478125 \n\" style=\"fill:none;stroke:#ffffff;stroke-linecap:square;stroke-linejoin:miter;stroke-width:1.25;\"/>\n   </g>\n   <g id=\"patch_12\">\n    <path d=\"M 116.884219 22.318125 \nL 786.484219 22.318125 \n\" style=\"fill:none;stroke:#ffffff;stroke-linecap:square;stroke-linejoin:miter;stroke-width:1.25;\"/>\n   </g>\n   <g id=\"text_13\">\n    <!-- Visualizing Naive Model Performance -->\n    <g style=\"fill:#262626;\" transform=\"translate(340.851094 16.318125)scale(0.12 -0.12)\">\n     <defs>\n      <path d=\"M 8.5 21.578125 \nL 8.5 54.6875 \nL 17.484375 54.6875 \nL 17.484375 21.921875 \nQ 17.484375 14.15625 20.5 10.265625 \nQ 23.53125 6.390625 29.59375 6.390625 \nQ 36.859375 6.390625 41.078125 11.03125 \nQ 45.3125 15.671875 45.3125 23.6875 \nL 45.3125 54.6875 \nL 54.296875 54.6875 \nL 54.296875 0 \nL 45.3125 0 \nL 45.3125 8.40625 \nQ 42.046875 3.421875 37.71875 1 \nQ 33.40625 -1.421875 27.6875 -1.421875 \nQ 18.265625 -1.421875 13.375 4.4375 \nQ 8.5 10.296875 8.5 21.578125 \nz\nM 31.109375 56 \nz\n\" id=\"DejaVuSans-117\"/>\n      <path d=\"M 5.515625 54.6875 \nL 48.1875 54.6875 \nL 48.1875 46.484375 \nL 14.40625 7.171875 \nL 48.1875 7.171875 \nL 48.1875 0 \nL 4.296875 0 \nL 4.296875 8.203125 \nL 38.09375 47.515625 \nL 5.515625 47.515625 \nz\n\" id=\"DejaVuSans-122\"/>\n      <path d=\"M 9.8125 72.90625 \nL 23.09375 72.90625 \nL 55.421875 11.921875 \nL 55.421875 72.90625 \nL 64.984375 72.90625 \nL 64.984375 0 \nL 51.703125 0 \nL 19.390625 60.984375 \nL 19.390625 0 \nL 9.8125 0 \nz\n\" id=\"DejaVuSans-78\"/>\n      <path d=\"M 2.984375 54.6875 \nL 12.5 54.6875 \nL 29.59375 8.796875 \nL 46.6875 54.6875 \nL 56.203125 54.6875 \nL 35.6875 0 \nL 23.484375 0 \nz\n\" id=\"DejaVuSans-118\"/>\n      <path d=\"M 9.8125 72.90625 \nL 24.515625 72.90625 \nL 43.109375 23.296875 \nL 61.8125 72.90625 \nL 76.515625 72.90625 \nL 76.515625 0 \nL 66.890625 0 \nL 66.890625 64.015625 \nL 48.09375 14.015625 \nL 38.1875 14.015625 \nL 19.390625 64.015625 \nL 19.390625 0 \nL 9.8125 0 \nz\n\" id=\"DejaVuSans-77\"/>\n      <path d=\"M 19.671875 64.796875 \nL 19.671875 37.40625 \nL 32.078125 37.40625 \nQ 38.96875 37.40625 42.71875 40.96875 \nQ 46.484375 44.53125 46.484375 51.125 \nQ 46.484375 57.671875 42.71875 61.234375 \nQ 38.96875 64.796875 32.078125 64.796875 \nz\nM 9.8125 72.90625 \nL 32.078125 72.90625 \nQ 44.34375 72.90625 50.609375 67.359375 \nQ 56.890625 61.8125 56.890625 51.125 \nQ 56.890625 40.328125 50.609375 34.8125 \nQ 44.34375 29.296875 32.078125 29.296875 \nL 19.671875 29.296875 \nL 19.671875 0 \nL 9.8125 0 \nz\n\" id=\"DejaVuSans-80\"/>\n      <path d=\"M 37.109375 75.984375 \nL 37.109375 68.5 \nL 28.515625 68.5 \nQ 23.6875 68.5 21.796875 66.546875 \nQ 19.921875 64.59375 19.921875 59.515625 \nL 19.921875 54.6875 \nL 34.71875 54.6875 \nL 34.71875 47.703125 \nL 19.921875 47.703125 \nL 19.921875 0 \nL 10.890625 0 \nL 10.890625 47.703125 \nL 2.296875 47.703125 \nL 2.296875 54.6875 \nL 10.890625 54.6875 \nL 10.890625 58.5 \nQ 10.890625 67.625 15.140625 71.796875 \nQ 19.390625 75.984375 28.609375 75.984375 \nz\n\" id=\"DejaVuSans-102\"/>\n     </defs>\n     <use xlink:href=\"#DejaVuSans-86\"/>\n     <use x=\"66.158203\" xlink:href=\"#DejaVuSans-105\"/>\n     <use x=\"93.941406\" xlink:href=\"#DejaVuSans-115\"/>\n     <use x=\"146.041016\" xlink:href=\"#DejaVuSans-117\"/>\n     <use x=\"209.419922\" xlink:href=\"#DejaVuSans-97\"/>\n     <use x=\"270.699219\" xlink:href=\"#DejaVuSans-108\"/>\n     <use x=\"298.482422\" xlink:href=\"#DejaVuSans-105\"/>\n     <use x=\"326.265625\" xlink:href=\"#DejaVuSans-122\"/>\n     <use x=\"378.755859\" xlink:href=\"#DejaVuSans-105\"/>\n     <use x=\"406.539062\" xlink:href=\"#DejaVuSans-110\"/>\n     <use x=\"469.917969\" xlink:href=\"#DejaVuSans-103\"/>\n     <use x=\"533.394531\" xlink:href=\"#DejaVuSans-32\"/>\n     <use x=\"565.181641\" xlink:href=\"#DejaVuSans-78\"/>\n     <use x=\"639.986328\" xlink:href=\"#DejaVuSans-97\"/>\n     <use x=\"701.265625\" xlink:href=\"#DejaVuSans-105\"/>\n     <use x=\"729.048828\" xlink:href=\"#DejaVuSans-118\"/>\n     <use x=\"788.228516\" xlink:href=\"#DejaVuSans-101\"/>\n     <use x=\"849.751953\" xlink:href=\"#DejaVuSans-32\"/>\n     <use x=\"881.539062\" xlink:href=\"#DejaVuSans-77\"/>\n     <use x=\"967.818359\" xlink:href=\"#DejaVuSans-111\"/>\n     <use x=\"1029\" xlink:href=\"#DejaVuSans-100\"/>\n     <use x=\"1092.476562\" xlink:href=\"#DejaVuSans-101\"/>\n     <use x=\"1154\" xlink:href=\"#DejaVuSans-108\"/>\n     <use x=\"1181.783203\" xlink:href=\"#DejaVuSans-32\"/>\n     <use x=\"1213.570312\" xlink:href=\"#DejaVuSans-80\"/>\n     <use x=\"1270.248047\" xlink:href=\"#DejaVuSans-101\"/>\n     <use x=\"1331.771484\" xlink:href=\"#DejaVuSans-114\"/>\n     <use x=\"1372.884766\" xlink:href=\"#DejaVuSans-102\"/>\n     <use x=\"1408.089844\" xlink:href=\"#DejaVuSans-111\"/>\n     <use x=\"1469.271484\" xlink:href=\"#DejaVuSans-114\"/>\n     <use x=\"1508.634766\" xlink:href=\"#DejaVuSans-109\"/>\n     <use x=\"1606.046875\" xlink:href=\"#DejaVuSans-97\"/>\n     <use x=\"1667.326172\" xlink:href=\"#DejaVuSans-110\"/>\n     <use x=\"1730.705078\" xlink:href=\"#DejaVuSans-99\"/>\n     <use x=\"1785.685547\" xlink:href=\"#DejaVuSans-101\"/>\n    </g>\n   </g>\n  </g>\n </g>\n <defs>\n  <clipPath id=\"pde892e7380\">\n   <rect height=\"326.16\" width=\"669.6\" x=\"116.884219\" y=\"22.318125\"/>\n  </clipPath>\n </defs>\n</svg>\n",
      "image/png": "[encoded data removed]"
     },
     "metadata": {}
    }
   ],
   "source": [
    "fig, ax = plt.subplots(figsize=(12,6))\n",
    "ax = sns.barplot(\n",
    "    x=\"score\",\n",
    "    y=\"model\",\n",
    "    data=results,\n",
    "    orient=\"h\",\n",
    "    # ci=\"sd\",\n",
    ")\n",
    "plt.title(\"Visualizing Naive Model Performance\")\n",
    "plt.xlabel(\"Validation Score (Error bar = STD)\")\n",
    "plt.ylabel(\"\");"
   ]
  },
  {
   "cell_type": "code",
   "execution_count": 173,
   "metadata": {},
   "outputs": [
    {
     "output_type": "stream",
     "text": [
      "\u001b[0;31mInit signature:\u001b[0m\n",
      "\u001b[0mmodel_selection\u001b[0m\u001b[0;34m.\u001b[0m\u001b[0mGridSearchCV\u001b[0m\u001b[0;34m(\u001b[0m\u001b[0;34m\u001b[0m\n",
      "\u001b[0;34m\u001b[0m    \u001b[0mestimator\u001b[0m\u001b[0;34m,\u001b[0m\u001b[0;34m\u001b[0m\n",
      "\u001b[0;34m\u001b[0m    \u001b[0mparam_grid\u001b[0m\u001b[0;34m,\u001b[0m\u001b[0;34m\u001b[0m\n",
      "\u001b[0;34m\u001b[0m    \u001b[0;34m*\u001b[0m\u001b[0;34m,\u001b[0m\u001b[0;34m\u001b[0m\n",
      "\u001b[0;34m\u001b[0m    \u001b[0mscoring\u001b[0m\u001b[0;34m=\u001b[0m\u001b[0;32mNone\u001b[0m\u001b[0;34m,\u001b[0m\u001b[0;34m\u001b[0m\n",
      "\u001b[0;34m\u001b[0m    \u001b[0mn_jobs\u001b[0m\u001b[0;34m=\u001b[0m\u001b[0;32mNone\u001b[0m\u001b[0;34m,\u001b[0m\u001b[0;34m\u001b[0m\n",
      "\u001b[0;34m\u001b[0m    \u001b[0miid\u001b[0m\u001b[0;34m=\u001b[0m\u001b[0;34m'deprecated'\u001b[0m\u001b[0;34m,\u001b[0m\u001b[0;34m\u001b[0m\n",
      "\u001b[0;34m\u001b[0m    \u001b[0mrefit\u001b[0m\u001b[0;34m=\u001b[0m\u001b[0;32mTrue\u001b[0m\u001b[0;34m,\u001b[0m\u001b[0;34m\u001b[0m\n",
      "\u001b[0;34m\u001b[0m    \u001b[0mcv\u001b[0m\u001b[0;34m=\u001b[0m\u001b[0;32mNone\u001b[0m\u001b[0;34m,\u001b[0m\u001b[0;34m\u001b[0m\n",
      "\u001b[0;34m\u001b[0m    \u001b[0mverbose\u001b[0m\u001b[0;34m=\u001b[0m\u001b[0;36m0\u001b[0m\u001b[0;34m,\u001b[0m\u001b[0;34m\u001b[0m\n",
      "\u001b[0;34m\u001b[0m    \u001b[0mpre_dispatch\u001b[0m\u001b[0;34m=\u001b[0m\u001b[0;34m'2*n_jobs'\u001b[0m\u001b[0;34m,\u001b[0m\u001b[0;34m\u001b[0m\n",
      "\u001b[0;34m\u001b[0m    \u001b[0merror_score\u001b[0m\u001b[0;34m=\u001b[0m\u001b[0mnan\u001b[0m\u001b[0;34m,\u001b[0m\u001b[0;34m\u001b[0m\n",
      "\u001b[0;34m\u001b[0m    \u001b[0mreturn_train_score\u001b[0m\u001b[0;34m=\u001b[0m\u001b[0;32mFalse\u001b[0m\u001b[0;34m,\u001b[0m\u001b[0;34m\u001b[0m\n",
      "\u001b[0;34m\u001b[0m\u001b[0;34m)\u001b[0m\u001b[0;34m\u001b[0m\u001b[0;34m\u001b[0m\u001b[0m\n",
      "\u001b[0;31mDocstring:\u001b[0m     \n",
      "Exhaustive search over specified parameter values for an estimator.\n",
      "\n",
      "Important members are fit, predict.\n",
      "\n",
      "GridSearchCV implements a \"fit\" and a \"score\" method.\n",
      "It also implements \"predict\", \"predict_proba\", \"decision_function\",\n",
      "\"transform\" and \"inverse_transform\" if they are implemented in the\n",
      "estimator used.\n",
      "\n",
      "The parameters of the estimator used to apply these methods are optimized\n",
      "by cross-validated grid-search over a parameter grid.\n",
      "\n",
      "Read more in the :ref:`User Guide <grid_search>`.\n",
      "\n",
      "Parameters\n",
      "----------\n",
      "estimator : estimator object.\n",
      "    This is assumed to implement the scikit-learn estimator interface.\n",
      "    Either estimator needs to provide a ``score`` function,\n",
      "    or ``scoring`` must be passed.\n",
      "\n",
      "param_grid : dict or list of dictionaries\n",
      "    Dictionary with parameters names (`str`) as keys and lists of\n",
      "    parameter settings to try as values, or a list of such\n",
      "    dictionaries, in which case the grids spanned by each dictionary\n",
      "    in the list are explored. This enables searching over any sequence\n",
      "    of parameter settings.\n",
      "\n",
      "scoring : str, callable, list/tuple or dict, default=None\n",
      "    A single str (see :ref:`scoring_parameter`) or a callable\n",
      "    (see :ref:`scoring`) to evaluate the predictions on the test set.\n",
      "\n",
      "    For evaluating multiple metrics, either give a list of (unique) strings\n",
      "    or a dict with names as keys and callables as values.\n",
      "\n",
      "    NOTE that when using custom scorers, each scorer should return a single\n",
      "    value. Metric functions returning a list/array of values can be wrapped\n",
      "    into multiple scorers that return one value each.\n",
      "\n",
      "    See :ref:`multimetric_grid_search` for an example.\n",
      "\n",
      "    If None, the estimator's score method is used.\n",
      "\n",
      "n_jobs : int, default=None\n",
      "    Number of jobs to run in parallel.\n",
      "    ``None`` means 1 unless in a :obj:`joblib.parallel_backend` context.\n",
      "    ``-1`` means using all processors. See :term:`Glossary <n_jobs>`\n",
      "    for more details.\n",
      "\n",
      "    .. versionchanged:: v0.20\n",
      "       `n_jobs` default changed from 1 to None\n",
      "\n",
      "pre_dispatch : int, or str, default=n_jobs\n",
      "    Controls the number of jobs that get dispatched during parallel\n",
      "    execution. Reducing this number can be useful to avoid an\n",
      "    explosion of memory consumption when more jobs get dispatched\n",
      "    than CPUs can process. This parameter can be:\n",
      "\n",
      "        - None, in which case all the jobs are immediately\n",
      "          created and spawned. Use this for lightweight and\n",
      "          fast-running jobs, to avoid delays due to on-demand\n",
      "          spawning of the jobs\n",
      "\n",
      "        - An int, giving the exact number of total jobs that are\n",
      "          spawned\n",
      "\n",
      "        - A str, giving an expression as a function of n_jobs,\n",
      "          as in '2*n_jobs'\n",
      "\n",
      "iid : bool, default=False\n",
      "    If True, return the average score across folds, weighted by the number\n",
      "    of samples in each test set. In this case, the data is assumed to be\n",
      "    identically distributed across the folds, and the loss minimized is\n",
      "    the total loss per sample, and not the mean loss across the folds.\n",
      "\n",
      "    .. deprecated:: 0.22\n",
      "        Parameter ``iid`` is deprecated in 0.22 and will be removed in 0.24\n",
      "\n",
      "cv : int, cross-validation generator or an iterable, default=None\n",
      "    Determines the cross-validation splitting strategy.\n",
      "    Possible inputs for cv are:\n",
      "\n",
      "    - None, to use the default 5-fold cross validation,\n",
      "    - integer, to specify the number of folds in a `(Stratified)KFold`,\n",
      "    - :term:`CV splitter`,\n",
      "    - An iterable yielding (train, test) splits as arrays of indices.\n",
      "\n",
      "    For integer/None inputs, if the estimator is a classifier and ``y`` is\n",
      "    either binary or multiclass, :class:`StratifiedKFold` is used. In all\n",
      "    other cases, :class:`KFold` is used.\n",
      "\n",
      "    Refer :ref:`User Guide <cross_validation>` for the various\n",
      "    cross-validation strategies that can be used here.\n",
      "\n",
      "    .. versionchanged:: 0.22\n",
      "        ``cv`` default value if None changed from 3-fold to 5-fold.\n",
      "\n",
      "refit : bool, str, or callable, default=True\n",
      "    Refit an estimator using the best found parameters on the whole\n",
      "    dataset.\n",
      "\n",
      "    For multiple metric evaluation, this needs to be a `str` denoting the\n",
      "    scorer that would be used to find the best parameters for refitting\n",
      "    the estimator at the end.\n",
      "\n",
      "    Where there are considerations other than maximum score in\n",
      "    choosing a best estimator, ``refit`` can be set to a function which\n",
      "    returns the selected ``best_index_`` given ``cv_results_``. In that\n",
      "    case, the ``best_estimator_`` and ``best_params_`` will be set\n",
      "    according to the returned ``best_index_`` while the ``best_score_``\n",
      "    attribute will not be available.\n",
      "\n",
      "    The refitted estimator is made available at the ``best_estimator_``\n",
      "    attribute and permits using ``predict`` directly on this\n",
      "    ``GridSearchCV`` instance.\n",
      "\n",
      "    Also for multiple metric evaluation, the attributes ``best_index_``,\n",
      "    ``best_score_`` and ``best_params_`` will only be available if\n",
      "    ``refit`` is set and all of them will be determined w.r.t this specific\n",
      "    scorer.\n",
      "\n",
      "    See ``scoring`` parameter to know more about multiple metric\n",
      "    evaluation.\n",
      "\n",
      "    .. versionchanged:: 0.20\n",
      "        Support for callable added.\n",
      "\n",
      "verbose : integer\n",
      "    Controls the verbosity: the higher, the more messages.\n",
      "\n",
      "error_score : 'raise' or numeric, default=np.nan\n",
      "    Value to assign to the score if an error occurs in estimator fitting.\n",
      "    If set to 'raise', the error is raised. If a numeric value is given,\n",
      "    FitFailedWarning is raised. This parameter does not affect the refit\n",
      "    step, which will always raise the error.\n",
      "\n",
      "return_train_score : bool, default=False\n",
      "    If ``False``, the ``cv_results_`` attribute will not include training\n",
      "    scores.\n",
      "    Computing training scores is used to get insights on how different\n",
      "    parameter settings impact the overfitting/underfitting trade-off.\n",
      "    However computing the scores on the training set can be computationally\n",
      "    expensive and is not strictly required to select the parameters that\n",
      "    yield the best generalization performance.\n",
      "\n",
      "    .. versionadded:: 0.19\n",
      "\n",
      "    .. versionchanged:: 0.21\n",
      "        Default value was changed from ``True`` to ``False``\n",
      "\n",
      "\n",
      "Examples\n",
      "--------\n",
      ">>> from sklearn import svm, datasets\n",
      ">>> from sklearn.model_selection import GridSearchCV\n",
      ">>> iris = datasets.load_iris()\n",
      ">>> parameters = {'kernel':('linear', 'rbf'), 'C':[1, 10]}\n",
      ">>> svc = svm.SVC()\n",
      ">>> clf = GridSearchCV(svc, parameters)\n",
      ">>> clf.fit(iris.data, iris.target)\n",
      "GridSearchCV(estimator=SVC(),\n",
      "             param_grid={'C': [1, 10], 'kernel': ('linear', 'rbf')})\n",
      ">>> sorted(clf.cv_results_.keys())\n",
      "['mean_fit_time', 'mean_score_time', 'mean_test_score',...\n",
      " 'param_C', 'param_kernel', 'params',...\n",
      " 'rank_test_score', 'split0_test_score',...\n",
      " 'split2_test_score', ...\n",
      " 'std_fit_time', 'std_score_time', 'std_test_score']\n",
      "\n",
      "Attributes\n",
      "----------\n",
      "cv_results_ : dict of numpy (masked) ndarrays\n",
      "    A dict with keys as column headers and values as columns, that can be\n",
      "    imported into a pandas ``DataFrame``.\n",
      "\n",
      "    For instance the below given table\n",
      "\n",
      "    +------------+-----------+------------+-----------------+---+---------+\n",
      "    |param_kernel|param_gamma|param_degree|split0_test_score|...|rank_t...|\n",
      "    +============+===========+============+=================+===+=========+\n",
      "    |  'poly'    |     --    |      2     |       0.80      |...|    2    |\n",
      "    +------------+-----------+------------+-----------------+---+---------+\n",
      "    |  'poly'    |     --    |      3     |       0.70      |...|    4    |\n",
      "    +------------+-----------+------------+-----------------+---+---------+\n",
      "    |  'rbf'     |     0.1   |     --     |       0.80      |...|    3    |\n",
      "    +------------+-----------+------------+-----------------+---+---------+\n",
      "    |  'rbf'     |     0.2   |     --     |       0.93      |...|    1    |\n",
      "    +------------+-----------+------------+-----------------+---+---------+\n",
      "\n",
      "    will be represented by a ``cv_results_`` dict of::\n",
      "\n",
      "        {\n",
      "        'param_kernel': masked_array(data = ['poly', 'poly', 'rbf', 'rbf'],\n",
      "                                     mask = [False False False False]...)\n",
      "        'param_gamma': masked_array(data = [-- -- 0.1 0.2],\n",
      "                                    mask = [ True  True False False]...),\n",
      "        'param_degree': masked_array(data = [2.0 3.0 -- --],\n",
      "                                     mask = [False False  True  True]...),\n",
      "        'split0_test_score'  : [0.80, 0.70, 0.80, 0.93],\n",
      "        'split1_test_score'  : [0.82, 0.50, 0.70, 0.78],\n",
      "        'mean_test_score'    : [0.81, 0.60, 0.75, 0.85],\n",
      "        'std_test_score'     : [0.01, 0.10, 0.05, 0.08],\n",
      "        'rank_test_score'    : [2, 4, 3, 1],\n",
      "        'split0_train_score' : [0.80, 0.92, 0.70, 0.93],\n",
      "        'split1_train_score' : [0.82, 0.55, 0.70, 0.87],\n",
      "        'mean_train_score'   : [0.81, 0.74, 0.70, 0.90],\n",
      "        'std_train_score'    : [0.01, 0.19, 0.00, 0.03],\n",
      "        'mean_fit_time'      : [0.73, 0.63, 0.43, 0.49],\n",
      "        'std_fit_time'       : [0.01, 0.02, 0.01, 0.01],\n",
      "        'mean_score_time'    : [0.01, 0.06, 0.04, 0.04],\n",
      "        'std_score_time'     : [0.00, 0.00, 0.00, 0.01],\n",
      "        'params'             : [{'kernel': 'poly', 'degree': 2}, ...],\n",
      "        }\n",
      "\n",
      "    NOTE\n",
      "\n",
      "    The key ``'params'`` is used to store a list of parameter\n",
      "    settings dicts for all the parameter candidates.\n",
      "\n",
      "    The ``mean_fit_time``, ``std_fit_time``, ``mean_score_time`` and\n",
      "    ``std_score_time`` are all in seconds.\n",
      "\n",
      "    For multi-metric evaluation, the scores for all the scorers are\n",
      "    available in the ``cv_results_`` dict at the keys ending with that\n",
      "    scorer's name (``'_<scorer_name>'``) instead of ``'_score'`` shown\n",
      "    above. ('split0_test_precision', 'mean_train_precision' etc.)\n",
      "\n",
      "best_estimator_ : estimator\n",
      "    Estimator that was chosen by the search, i.e. estimator\n",
      "    which gave highest score (or smallest loss if specified)\n",
      "    on the left out data. Not available if ``refit=False``.\n",
      "\n",
      "    See ``refit`` parameter for more information on allowed values.\n",
      "\n",
      "best_score_ : float\n",
      "    Mean cross-validated score of the best_estimator\n",
      "\n",
      "    For multi-metric evaluation, this is present only if ``refit`` is\n",
      "    specified.\n",
      "\n",
      "    This attribute is not available if ``refit`` is a function.\n",
      "\n",
      "best_params_ : dict\n",
      "    Parameter setting that gave the best results on the hold out data.\n",
      "\n",
      "    For multi-metric evaluation, this is present only if ``refit`` is\n",
      "    specified.\n",
      "\n",
      "best_index_ : int\n",
      "    The index (of the ``cv_results_`` arrays) which corresponds to the best\n",
      "    candidate parameter setting.\n",
      "\n",
      "    The dict at ``search.cv_results_['params'][search.best_index_]`` gives\n",
      "    the parameter setting for the best model, that gives the highest\n",
      "    mean score (``search.best_score_``).\n",
      "\n",
      "    For multi-metric evaluation, this is present only if ``refit`` is\n",
      "    specified.\n",
      "\n",
      "scorer_ : function or a dict\n",
      "    Scorer function used on the held out data to choose the best\n",
      "    parameters for the model.\n",
      "\n",
      "    For multi-metric evaluation, this attribute holds the validated\n",
      "    ``scoring`` dict which maps the scorer key to the scorer callable.\n",
      "\n",
      "n_splits_ : int\n",
      "    The number of cross-validation splits (folds/iterations).\n",
      "\n",
      "refit_time_ : float\n",
      "    Seconds used for refitting the best model on the whole dataset.\n",
      "\n",
      "    This is present only if ``refit`` is not False.\n",
      "\n",
      "    .. versionadded:: 0.20\n",
      "\n",
      "Notes\n",
      "-----\n",
      "The parameters selected are those that maximize the score of the left out\n",
      "data, unless an explicit score is passed in which case it is used instead.\n",
      "\n",
      "If `n_jobs` was set to a value higher than one, the data is copied for each\n",
      "point in the grid (and not `n_jobs` times). This is done for efficiency\n",
      "reasons if individual jobs take very little time, but may raise errors if\n",
      "the dataset is large and not enough memory is available.  A workaround in\n",
      "this case is to set `pre_dispatch`. Then, the memory is copied only\n",
      "`pre_dispatch` many times. A reasonable value for `pre_dispatch` is `2 *\n",
      "n_jobs`.\n",
      "\n",
      "See Also\n",
      "---------\n",
      ":class:`ParameterGrid`:\n",
      "    generates all the combinations of a hyperparameter grid.\n",
      "\n",
      ":func:`sklearn.model_selection.train_test_split`:\n",
      "    utility function to split the data into a development set usable\n",
      "    for fitting a GridSearchCV instance and an evaluation set for\n",
      "    its final evaluation.\n",
      "\n",
      ":func:`sklearn.metrics.make_scorer`:\n",
      "    Make a scorer from a performance metric or loss function.\n",
      "\u001b[0;31mFile:\u001b[0m           ~/anaconda3/lib/python3.7/site-packages/sklearn/model_selection/_search.py\n",
      "\u001b[0;31mType:\u001b[0m           ABCMeta\n",
      "\u001b[0;31mSubclasses:\u001b[0m     \n"
     ],
     "name": "stdout"
    }
   ],
   "source": [
    "model_selection.GridSearchCV?"
   ]
  },
  {
   "source": [
    "## Perform Grid Search on Some of the Models"
   ],
   "cell_type": "markdown",
   "metadata": {}
  },
  {
   "cell_type": "code",
   "execution_count": 209,
   "metadata": {},
   "outputs": [],
   "source": [
    "import time"
   ]
  },
  {
   "cell_type": "code",
   "execution_count": 201,
   "metadata": {},
   "outputs": [],
   "source": [
    "models = {}\n",
    "param_grids = {}"
   ]
  },
  {
   "cell_type": "code",
   "execution_count": 203,
   "metadata": {},
   "outputs": [],
   "source": [
    "X_train, X_test, y_train, y_test = model_selection.train_test_split(X,y)"
   ]
  },
  {
   "source": [
    "### LASSO Regression"
   ],
   "cell_type": "markdown",
   "metadata": {}
  },
  {
   "cell_type": "code",
   "execution_count": 210,
   "metadata": {},
   "outputs": [
    {
     "output_type": "stream",
     "name": "stdout",
     "text": [
      "Fitting 5 folds for each of 30 candidates, totalling 150 fits\n",
      "[Parallel(n_jobs=-1)]: Using backend LokyBackend with 4 concurrent workers.\n",
      "[Parallel(n_jobs=-1)]: Done   5 tasks      | elapsed:    3.1s\n",
      "[Parallel(n_jobs=-1)]: Done  10 tasks      | elapsed:   20.4s\n",
      "[Parallel(n_jobs=-1)]: Done  17 tasks      | elapsed:  5.5min\n",
      "[Parallel(n_jobs=-1)]: Done  24 tasks      | elapsed:  6.1min\n",
      "[Parallel(n_jobs=-1)]: Done  33 tasks      | elapsed:  6.4min\n",
      "[Parallel(n_jobs=-1)]: Done  42 tasks      | elapsed:  7.0min\n",
      "[Parallel(n_jobs=-1)]: Done  53 tasks      | elapsed:  7.2min\n",
      "[Parallel(n_jobs=-1)]: Done  64 tasks      | elapsed:  7.4min\n",
      "[Parallel(n_jobs=-1)]: Done  77 tasks      | elapsed:  7.8min\n",
      "[Parallel(n_jobs=-1)]: Done  90 tasks      | elapsed:  8.1min\n",
      "[Parallel(n_jobs=-1)]: Done 105 tasks      | elapsed:  8.2min\n",
      "[Parallel(n_jobs=-1)]: Done 120 tasks      | elapsed:  8.3min\n",
      "[Parallel(n_jobs=-1)]: Done 137 tasks      | elapsed:  8.3min\n",
      "\n",
      "\"     lasso\" => BEST SCORE: 0.9003\n",
      "[Parallel(n_jobs=-1)]: Done 150 out of 150 | elapsed: 11.6min finished\n"
     ]
    }
   ],
   "source": [
    "# Set the Parameters\n",
    "model_name = \"lasso\"\n",
    "param_grids[model_name] = {\n",
    "    \"alpha\":np.linspace(0.001,5,10),\n",
    "    \"max_iter\":10 ** np.arange(2,8,2)\n",
    "}\n",
    "\n",
    "# Build GridSearchCV Model\n",
    "models[model_name] = model_selection.GridSearchCV(\n",
    "    estimator=linear_model.Lasso(),\n",
    "    param_grid=param_grids[\"lasso\"],\n",
    "    scoring=\"r2\",\n",
    "    n_jobs=-1,\n",
    "    cv=5,\n",
    "    refit=True,\n",
    "    verbose=10\n",
    ")\n",
    "\n",
    "# Fit the Model\n",
    "models[model_name].fit(X_train,y_train)\n",
    "\n",
    "# Print the results\n",
    "time.sleep(0.1)\n",
    "print()\n",
    "print(f\"\\\"{model_name:>10s}\\\" => BEST SCORE: {models[model_name].best_score_:.4f}\")"
   ]
  },
  {
   "source": [
    "### Random Forrest"
   ],
   "cell_type": "markdown",
   "metadata": {}
  },
  {
   "cell_type": "code",
   "execution_count": 213,
   "metadata": {},
   "outputs": [
    {
     "output_type": "stream",
     "name": "stdout",
     "text": [
      "Fitting 5 folds for each of 30 candidates, totalling 150 fits\n",
      "[Parallel(n_jobs=-1)]: Using backend LokyBackend with 4 concurrent workers.\n",
      "[Parallel(n_jobs=-1)]: Done   5 tasks      | elapsed:    3.3s\n",
      "[Parallel(n_jobs=-1)]: Done  10 tasks      | elapsed:    3.4s\n",
      "[Parallel(n_jobs=-1)]: Done  17 tasks      | elapsed:    3.5s\n",
      "[Parallel(n_jobs=-1)]: Batch computation too fast (0.1955s.) Setting batch_size=2.\n",
      "[Parallel(n_jobs=-1)]: Done  24 tasks      | elapsed:    3.6s\n",
      "[Parallel(n_jobs=-1)]: Batch computation too fast (0.0452s.) Setting batch_size=4.\n"
     ]
    },
    {
     "output_type": "error",
     "ename": "ValueError",
     "evalue": "Invalid parameter alpha for estimator RandomForestRegressor(n_jobs=1, verbose=False). Check the list of available parameters with `estimator.get_params().keys()`.",
     "traceback": [
      "\u001b[0;31m---------------------------------------------------------------------------\u001b[0m",
      "\u001b[0;31m_RemoteTraceback\u001b[0m                          Traceback (most recent call last)",
      "\u001b[0;31m_RemoteTraceback\u001b[0m: \n\"\"\"\nTraceback (most recent call last):\n  File \"/home/apoor/anaconda3/lib/python3.7/site-packages/joblib/externals/loky/process_executor.py\", line 418, in _process_worker\n    r = call_item()\n  File \"/home/apoor/anaconda3/lib/python3.7/site-packages/joblib/externals/loky/process_executor.py\", line 272, in __call__\n    return self.fn(*self.args, **self.kwargs)\n  File \"/home/apoor/anaconda3/lib/python3.7/site-packages/joblib/_parallel_backends.py\", line 608, in __call__\n    return self.func(*args, **kwargs)\n  File \"/home/apoor/anaconda3/lib/python3.7/site-packages/joblib/parallel.py\", line 256, in __call__\n    for func, args, kwargs in self.items]\n  File \"/home/apoor/anaconda3/lib/python3.7/site-packages/joblib/parallel.py\", line 256, in <listcomp>\n    for func, args, kwargs in self.items]\n  File \"/home/apoor/anaconda3/lib/python3.7/site-packages/sklearn/model_selection/_validation.py\", line 520, in _fit_and_score\n    estimator = estimator.set_params(**cloned_parameters)\n  File \"/home/apoor/anaconda3/lib/python3.7/site-packages/sklearn/base.py\", line 252, in set_params\n    (key, self))\nValueError: Invalid parameter alpha for estimator RandomForestRegressor(n_jobs=1, verbose=False). Check the list of available parameters with `estimator.get_params().keys()`.\n\"\"\"",
      "\nThe above exception was the direct cause of the following exception:\n",
      "\u001b[0;31mValueError\u001b[0m                                Traceback (most recent call last)",
      "\u001b[0;32m<ipython-input-213-ee50b4baa841>\u001b[0m in \u001b[0;36m<module>\u001b[0;34m\u001b[0m\n\u001b[1;32m     20\u001b[0m     \u001b[0mverbose\u001b[0m\u001b[0;34m=\u001b[0m\u001b[0;36m10\u001b[0m\u001b[0;34m\u001b[0m\u001b[0;34m\u001b[0m\u001b[0m\n\u001b[1;32m     21\u001b[0m )\n\u001b[0;32m---> 22\u001b[0;31m \u001b[0mmodels\u001b[0m\u001b[0;34m[\u001b[0m\u001b[0mmodel_name\u001b[0m\u001b[0;34m]\u001b[0m\u001b[0;34m.\u001b[0m\u001b[0mfit\u001b[0m\u001b[0;34m(\u001b[0m\u001b[0mX_train\u001b[0m\u001b[0;34m,\u001b[0m\u001b[0my_train\u001b[0m\u001b[0;34m)\u001b[0m\u001b[0;34m\u001b[0m\u001b[0;34m\u001b[0m\u001b[0m\n\u001b[0m\u001b[1;32m     23\u001b[0m \u001b[0mtime\u001b[0m\u001b[0;34m.\u001b[0m\u001b[0msleep\u001b[0m\u001b[0;34m(\u001b[0m\u001b[0;36m0.1\u001b[0m\u001b[0;34m)\u001b[0m\u001b[0;34m\u001b[0m\u001b[0;34m\u001b[0m\u001b[0m\n\u001b[1;32m     24\u001b[0m \u001b[0mprint\u001b[0m\u001b[0;34m(\u001b[0m\u001b[0;34m)\u001b[0m\u001b[0;34m\u001b[0m\u001b[0;34m\u001b[0m\u001b[0m\n",
      "\u001b[0;32m~/anaconda3/lib/python3.7/site-packages/sklearn/utils/validation.py\u001b[0m in \u001b[0;36minner_f\u001b[0;34m(*args, **kwargs)\u001b[0m\n\u001b[1;32m     70\u001b[0m                           FutureWarning)\n\u001b[1;32m     71\u001b[0m         \u001b[0mkwargs\u001b[0m\u001b[0;34m.\u001b[0m\u001b[0mupdate\u001b[0m\u001b[0;34m(\u001b[0m\u001b[0;34m{\u001b[0m\u001b[0mk\u001b[0m\u001b[0;34m:\u001b[0m \u001b[0marg\u001b[0m \u001b[0;32mfor\u001b[0m \u001b[0mk\u001b[0m\u001b[0;34m,\u001b[0m \u001b[0marg\u001b[0m \u001b[0;32min\u001b[0m \u001b[0mzip\u001b[0m\u001b[0;34m(\u001b[0m\u001b[0msig\u001b[0m\u001b[0;34m.\u001b[0m\u001b[0mparameters\u001b[0m\u001b[0;34m,\u001b[0m \u001b[0margs\u001b[0m\u001b[0;34m)\u001b[0m\u001b[0;34m}\u001b[0m\u001b[0;34m)\u001b[0m\u001b[0;34m\u001b[0m\u001b[0;34m\u001b[0m\u001b[0m\n\u001b[0;32m---> 72\u001b[0;31m         \u001b[0;32mreturn\u001b[0m \u001b[0mf\u001b[0m\u001b[0;34m(\u001b[0m\u001b[0;34m**\u001b[0m\u001b[0mkwargs\u001b[0m\u001b[0;34m)\u001b[0m\u001b[0;34m\u001b[0m\u001b[0;34m\u001b[0m\u001b[0m\n\u001b[0m\u001b[1;32m     73\u001b[0m     \u001b[0;32mreturn\u001b[0m \u001b[0minner_f\u001b[0m\u001b[0;34m\u001b[0m\u001b[0;34m\u001b[0m\u001b[0m\n\u001b[1;32m     74\u001b[0m \u001b[0;34m\u001b[0m\u001b[0m\n",
      "\u001b[0;32m~/anaconda3/lib/python3.7/site-packages/sklearn/model_selection/_search.py\u001b[0m in \u001b[0;36mfit\u001b[0;34m(self, X, y, groups, **fit_params)\u001b[0m\n\u001b[1;32m    734\u001b[0m                 \u001b[0;32mreturn\u001b[0m \u001b[0mresults\u001b[0m\u001b[0;34m\u001b[0m\u001b[0;34m\u001b[0m\u001b[0m\n\u001b[1;32m    735\u001b[0m \u001b[0;34m\u001b[0m\u001b[0m\n\u001b[0;32m--> 736\u001b[0;31m             \u001b[0mself\u001b[0m\u001b[0;34m.\u001b[0m\u001b[0m_run_search\u001b[0m\u001b[0;34m(\u001b[0m\u001b[0mevaluate_candidates\u001b[0m\u001b[0;34m)\u001b[0m\u001b[0;34m\u001b[0m\u001b[0;34m\u001b[0m\u001b[0m\n\u001b[0m\u001b[1;32m    737\u001b[0m \u001b[0;34m\u001b[0m\u001b[0m\n\u001b[1;32m    738\u001b[0m         \u001b[0;31m# For multi-metric evaluation, store the best_index_, best_params_ and\u001b[0m\u001b[0;34m\u001b[0m\u001b[0;34m\u001b[0m\u001b[0;34m\u001b[0m\u001b[0m\n",
      "\u001b[0;32m~/anaconda3/lib/python3.7/site-packages/sklearn/model_selection/_search.py\u001b[0m in \u001b[0;36m_run_search\u001b[0;34m(self, evaluate_candidates)\u001b[0m\n\u001b[1;32m   1186\u001b[0m     \u001b[0;32mdef\u001b[0m \u001b[0m_run_search\u001b[0m\u001b[0;34m(\u001b[0m\u001b[0mself\u001b[0m\u001b[0;34m,\u001b[0m \u001b[0mevaluate_candidates\u001b[0m\u001b[0;34m)\u001b[0m\u001b[0;34m:\u001b[0m\u001b[0;34m\u001b[0m\u001b[0;34m\u001b[0m\u001b[0m\n\u001b[1;32m   1187\u001b[0m         \u001b[0;34m\"\"\"Search all candidates in param_grid\"\"\"\u001b[0m\u001b[0;34m\u001b[0m\u001b[0;34m\u001b[0m\u001b[0m\n\u001b[0;32m-> 1188\u001b[0;31m         \u001b[0mevaluate_candidates\u001b[0m\u001b[0;34m(\u001b[0m\u001b[0mParameterGrid\u001b[0m\u001b[0;34m(\u001b[0m\u001b[0mself\u001b[0m\u001b[0;34m.\u001b[0m\u001b[0mparam_grid\u001b[0m\u001b[0;34m)\u001b[0m\u001b[0;34m)\u001b[0m\u001b[0;34m\u001b[0m\u001b[0;34m\u001b[0m\u001b[0m\n\u001b[0m\u001b[1;32m   1189\u001b[0m \u001b[0;34m\u001b[0m\u001b[0m\n\u001b[1;32m   1190\u001b[0m \u001b[0;34m\u001b[0m\u001b[0m\n",
      "\u001b[0;32m~/anaconda3/lib/python3.7/site-packages/sklearn/model_selection/_search.py\u001b[0m in \u001b[0;36mevaluate_candidates\u001b[0;34m(candidate_params)\u001b[0m\n\u001b[1;32m    713\u001b[0m                                \u001b[0;32mfor\u001b[0m \u001b[0mparameters\u001b[0m\u001b[0;34m,\u001b[0m \u001b[0;34m(\u001b[0m\u001b[0mtrain\u001b[0m\u001b[0;34m,\u001b[0m \u001b[0mtest\u001b[0m\u001b[0;34m)\u001b[0m\u001b[0;34m\u001b[0m\u001b[0;34m\u001b[0m\u001b[0m\n\u001b[1;32m    714\u001b[0m                                in product(candidate_params,\n\u001b[0;32m--> 715\u001b[0;31m                                           cv.split(X, y, groups)))\n\u001b[0m\u001b[1;32m    716\u001b[0m \u001b[0;34m\u001b[0m\u001b[0m\n\u001b[1;32m    717\u001b[0m                 \u001b[0;32mif\u001b[0m \u001b[0mlen\u001b[0m\u001b[0;34m(\u001b[0m\u001b[0mout\u001b[0m\u001b[0;34m)\u001b[0m \u001b[0;34m<\u001b[0m \u001b[0;36m1\u001b[0m\u001b[0;34m:\u001b[0m\u001b[0;34m\u001b[0m\u001b[0;34m\u001b[0m\u001b[0m\n",
      "\u001b[0;32m~/anaconda3/lib/python3.7/site-packages/joblib/parallel.py\u001b[0m in \u001b[0;36m__call__\u001b[0;34m(self, iterable)\u001b[0m\n\u001b[1;32m   1015\u001b[0m \u001b[0;34m\u001b[0m\u001b[0m\n\u001b[1;32m   1016\u001b[0m             \u001b[0;32mwith\u001b[0m \u001b[0mself\u001b[0m\u001b[0;34m.\u001b[0m\u001b[0m_backend\u001b[0m\u001b[0;34m.\u001b[0m\u001b[0mretrieval_context\u001b[0m\u001b[0;34m(\u001b[0m\u001b[0;34m)\u001b[0m\u001b[0;34m:\u001b[0m\u001b[0;34m\u001b[0m\u001b[0;34m\u001b[0m\u001b[0m\n\u001b[0;32m-> 1017\u001b[0;31m                 \u001b[0mself\u001b[0m\u001b[0;34m.\u001b[0m\u001b[0mretrieve\u001b[0m\u001b[0;34m(\u001b[0m\u001b[0;34m)\u001b[0m\u001b[0;34m\u001b[0m\u001b[0;34m\u001b[0m\u001b[0m\n\u001b[0m\u001b[1;32m   1018\u001b[0m             \u001b[0;31m# Make sure that we get a last message telling us we are done\u001b[0m\u001b[0;34m\u001b[0m\u001b[0;34m\u001b[0m\u001b[0;34m\u001b[0m\u001b[0m\n\u001b[1;32m   1019\u001b[0m             \u001b[0melapsed_time\u001b[0m \u001b[0;34m=\u001b[0m \u001b[0mtime\u001b[0m\u001b[0;34m.\u001b[0m\u001b[0mtime\u001b[0m\u001b[0;34m(\u001b[0m\u001b[0;34m)\u001b[0m \u001b[0;34m-\u001b[0m \u001b[0mself\u001b[0m\u001b[0;34m.\u001b[0m\u001b[0m_start_time\u001b[0m\u001b[0;34m\u001b[0m\u001b[0;34m\u001b[0m\u001b[0m\n",
      "\u001b[0;32m~/anaconda3/lib/python3.7/site-packages/joblib/parallel.py\u001b[0m in \u001b[0;36mretrieve\u001b[0;34m(self)\u001b[0m\n\u001b[1;32m    907\u001b[0m             \u001b[0;32mtry\u001b[0m\u001b[0;34m:\u001b[0m\u001b[0;34m\u001b[0m\u001b[0;34m\u001b[0m\u001b[0m\n\u001b[1;32m    908\u001b[0m                 \u001b[0;32mif\u001b[0m \u001b[0mgetattr\u001b[0m\u001b[0;34m(\u001b[0m\u001b[0mself\u001b[0m\u001b[0;34m.\u001b[0m\u001b[0m_backend\u001b[0m\u001b[0;34m,\u001b[0m \u001b[0;34m'supports_timeout'\u001b[0m\u001b[0;34m,\u001b[0m \u001b[0;32mFalse\u001b[0m\u001b[0;34m)\u001b[0m\u001b[0;34m:\u001b[0m\u001b[0;34m\u001b[0m\u001b[0;34m\u001b[0m\u001b[0m\n\u001b[0;32m--> 909\u001b[0;31m                     \u001b[0mself\u001b[0m\u001b[0;34m.\u001b[0m\u001b[0m_output\u001b[0m\u001b[0;34m.\u001b[0m\u001b[0mextend\u001b[0m\u001b[0;34m(\u001b[0m\u001b[0mjob\u001b[0m\u001b[0;34m.\u001b[0m\u001b[0mget\u001b[0m\u001b[0;34m(\u001b[0m\u001b[0mtimeout\u001b[0m\u001b[0;34m=\u001b[0m\u001b[0mself\u001b[0m\u001b[0;34m.\u001b[0m\u001b[0mtimeout\u001b[0m\u001b[0;34m)\u001b[0m\u001b[0;34m)\u001b[0m\u001b[0;34m\u001b[0m\u001b[0;34m\u001b[0m\u001b[0m\n\u001b[0m\u001b[1;32m    910\u001b[0m                 \u001b[0;32melse\u001b[0m\u001b[0;34m:\u001b[0m\u001b[0;34m\u001b[0m\u001b[0;34m\u001b[0m\u001b[0m\n\u001b[1;32m    911\u001b[0m                     \u001b[0mself\u001b[0m\u001b[0;34m.\u001b[0m\u001b[0m_output\u001b[0m\u001b[0;34m.\u001b[0m\u001b[0mextend\u001b[0m\u001b[0;34m(\u001b[0m\u001b[0mjob\u001b[0m\u001b[0;34m.\u001b[0m\u001b[0mget\u001b[0m\u001b[0;34m(\u001b[0m\u001b[0;34m)\u001b[0m\u001b[0;34m)\u001b[0m\u001b[0;34m\u001b[0m\u001b[0;34m\u001b[0m\u001b[0m\n",
      "\u001b[0;32m~/anaconda3/lib/python3.7/site-packages/joblib/_parallel_backends.py\u001b[0m in \u001b[0;36mwrap_future_result\u001b[0;34m(future, timeout)\u001b[0m\n\u001b[1;32m    560\u001b[0m         AsyncResults.get from multiprocessing.\"\"\"\n\u001b[1;32m    561\u001b[0m         \u001b[0;32mtry\u001b[0m\u001b[0;34m:\u001b[0m\u001b[0;34m\u001b[0m\u001b[0;34m\u001b[0m\u001b[0m\n\u001b[0;32m--> 562\u001b[0;31m             \u001b[0;32mreturn\u001b[0m \u001b[0mfuture\u001b[0m\u001b[0;34m.\u001b[0m\u001b[0mresult\u001b[0m\u001b[0;34m(\u001b[0m\u001b[0mtimeout\u001b[0m\u001b[0;34m=\u001b[0m\u001b[0mtimeout\u001b[0m\u001b[0;34m)\u001b[0m\u001b[0;34m\u001b[0m\u001b[0;34m\u001b[0m\u001b[0m\n\u001b[0m\u001b[1;32m    563\u001b[0m         \u001b[0;32mexcept\u001b[0m \u001b[0mLokyTimeoutError\u001b[0m\u001b[0;34m:\u001b[0m\u001b[0;34m\u001b[0m\u001b[0;34m\u001b[0m\u001b[0m\n\u001b[1;32m    564\u001b[0m             \u001b[0;32mraise\u001b[0m \u001b[0mTimeoutError\u001b[0m\u001b[0;34m(\u001b[0m\u001b[0;34m)\u001b[0m\u001b[0;34m\u001b[0m\u001b[0;34m\u001b[0m\u001b[0m\n",
      "\u001b[0;32m~/anaconda3/lib/python3.7/concurrent/futures/_base.py\u001b[0m in \u001b[0;36mresult\u001b[0;34m(self, timeout)\u001b[0m\n\u001b[1;32m    430\u001b[0m                 \u001b[0;32mraise\u001b[0m \u001b[0mCancelledError\u001b[0m\u001b[0;34m(\u001b[0m\u001b[0;34m)\u001b[0m\u001b[0;34m\u001b[0m\u001b[0;34m\u001b[0m\u001b[0m\n\u001b[1;32m    431\u001b[0m             \u001b[0;32melif\u001b[0m \u001b[0mself\u001b[0m\u001b[0;34m.\u001b[0m\u001b[0m_state\u001b[0m \u001b[0;34m==\u001b[0m \u001b[0mFINISHED\u001b[0m\u001b[0;34m:\u001b[0m\u001b[0;34m\u001b[0m\u001b[0;34m\u001b[0m\u001b[0m\n\u001b[0;32m--> 432\u001b[0;31m                 \u001b[0;32mreturn\u001b[0m \u001b[0mself\u001b[0m\u001b[0;34m.\u001b[0m\u001b[0m__get_result\u001b[0m\u001b[0;34m(\u001b[0m\u001b[0;34m)\u001b[0m\u001b[0;34m\u001b[0m\u001b[0;34m\u001b[0m\u001b[0m\n\u001b[0m\u001b[1;32m    433\u001b[0m             \u001b[0;32melse\u001b[0m\u001b[0;34m:\u001b[0m\u001b[0;34m\u001b[0m\u001b[0;34m\u001b[0m\u001b[0m\n\u001b[1;32m    434\u001b[0m                 \u001b[0;32mraise\u001b[0m \u001b[0mTimeoutError\u001b[0m\u001b[0;34m(\u001b[0m\u001b[0;34m)\u001b[0m\u001b[0;34m\u001b[0m\u001b[0;34m\u001b[0m\u001b[0m\n",
      "\u001b[0;32m~/anaconda3/lib/python3.7/concurrent/futures/_base.py\u001b[0m in \u001b[0;36m__get_result\u001b[0;34m(self)\u001b[0m\n\u001b[1;32m    382\u001b[0m     \u001b[0;32mdef\u001b[0m \u001b[0m__get_result\u001b[0m\u001b[0;34m(\u001b[0m\u001b[0mself\u001b[0m\u001b[0;34m)\u001b[0m\u001b[0;34m:\u001b[0m\u001b[0;34m\u001b[0m\u001b[0;34m\u001b[0m\u001b[0m\n\u001b[1;32m    383\u001b[0m         \u001b[0;32mif\u001b[0m \u001b[0mself\u001b[0m\u001b[0;34m.\u001b[0m\u001b[0m_exception\u001b[0m\u001b[0;34m:\u001b[0m\u001b[0;34m\u001b[0m\u001b[0;34m\u001b[0m\u001b[0m\n\u001b[0;32m--> 384\u001b[0;31m             \u001b[0;32mraise\u001b[0m \u001b[0mself\u001b[0m\u001b[0;34m.\u001b[0m\u001b[0m_exception\u001b[0m\u001b[0;34m\u001b[0m\u001b[0;34m\u001b[0m\u001b[0m\n\u001b[0m\u001b[1;32m    385\u001b[0m         \u001b[0;32melse\u001b[0m\u001b[0;34m:\u001b[0m\u001b[0;34m\u001b[0m\u001b[0;34m\u001b[0m\u001b[0m\n\u001b[1;32m    386\u001b[0m             \u001b[0;32mreturn\u001b[0m \u001b[0mself\u001b[0m\u001b[0;34m.\u001b[0m\u001b[0m_result\u001b[0m\u001b[0;34m\u001b[0m\u001b[0;34m\u001b[0m\u001b[0m\n",
      "\u001b[0;31mValueError\u001b[0m: Invalid parameter alpha for estimator RandomForestRegressor(n_jobs=1, verbose=False). Check the list of available parameters with `estimator.get_params().keys()`."
     ]
    }
   ],
   "source": [
    "model_name = \"random_forest\"\n",
    "param_grids[model_name] = {\n",
    "    \"n_estimators\": [10,50,100,500,1_000,5_000,10_000],\n",
    "    \"max_depth\": [1,3,5,7,10,20,None],\n",
    "    \"min_samples_split\":[1,2,5,10,20],\n",
    "    \"min_samples_leaf\":[1,2,5],\n",
    "    \"max_features\":[\"auto\",\"sqrt\",\"log2\"],\n",
    "    \"max_leaf_nodes\":[None,],\n",
    "    \"min_impurity_decrease\":[0,0.1,0.25],\n",
    "    \"max_samples\":[None,0.2,0.5,0.8,0.9,1.0],\n",
    "    \"max_samples\":[0.5,0.8,1.0],\n",
    "}\n",
    "models[model_name] = model_selection.GridSearchCV(\n",
    "    estimator=ensemble.RandomForestRegressor(n_jobs=1,verbose=False),\n",
    "    param_grid=param_grids[model_name],\n",
    "    scoring=\"r2\",\n",
    "    n_jobs=-1,\n",
    "    cv=5,\n",
    "    refit=True,\n",
    "    verbose=10\n",
    ")\n",
    "models[model_name].fit(X_train,y_train)\n",
    "time.sleep(0.1)\n",
    "print()\n",
    "print(\"\\\"{model_name:>17s}\\\"BEST SCORE: {models[model_name].best_score_:.4f}\")"
   ]
  },
  {
   "source": [
    "### XGBoost"
   ],
   "cell_type": "markdown",
   "metadata": {}
  },
  {
   "cell_type": "code",
   "execution_count": null,
   "metadata": {},
   "outputs": [],
   "source": [
    "model_name = \"xgbr\"\n",
    "param_grids[model_name] = {\n",
    "    \"n_estimators\": 10 ** np.arange(6),\n",
    "    \"max_depth\": [3,4,5,6,7,8,9,10],\n",
    "    \"learning_rate\": np.linspace(1e-5,0.3,5),\n",
    "    \"subsample\": np.linspace(0.5,1.0,5),\n",
    "    \"colsample_bytree\": np.linspace(0.5,1.0,5),\n",
    "    \"lambda\": np.linspace(0,1.0,5),\n",
    "    \"alpha\": np.linspace(0,1.0,5),\n",
    "}\n",
    "models[model_name] = model_selection.GridSearchCV(\n",
    "    estimator=XGBRegressor(n_jobs=1,silent=1),\n",
    "    param_grid=param_grids[model_name],\n",
    "    scoring=\"r2\",\n",
    "    n_jobs=-1,\n",
    "    cv=5,\n",
    "    refit=True,\n",
    "    verbose=10\n",
    ")\n",
    "models[model_name].fit(X_train,y_train)\n",
    "print(\"\\\"{model_name:>17s}\\\"BEST SCORE: {models[model_name].best_score_:.4f}\")"
   ]
  },
  {
   "cell_type": "code",
   "execution_count": null,
   "metadata": {},
   "outputs": [],
   "source": []
  }
 ]
}