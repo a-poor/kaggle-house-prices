{
 "metadata": {
  "language_info": {
   "codemirror_mode": {
    "name": "ipython",
    "version": 3
   },
   "file_extension": ".py",
   "mimetype": "text/x-python",
   "name": "python",
   "nbconvert_exporter": "python",
   "pygments_lexer": "ipython3",
   "version": "3.7.3-final"
  },
  "orig_nbformat": 2,
  "kernelspec": {
   "name": "python3",
   "display_name": "Python 3",
   "language": "python"
  }
 },
 "nbformat": 4,
 "nbformat_minor": 2,
 "cells": [
  {
   "source": [
    "# House Prices Advanced Regression Techniques\n",
    "\n",
    "_create by [Austin Poor](https://www.kaggle.com/austinpoor)_\n",
    "\n",
    "* [Kaggle Competition](https://www.kaggle.com/c/house-prices-advanced-regression-techniques/data?select=train.csv)\n",
    "* [Github Repo](https://github.com/a-poor/kaggle-house-prices/tree/main)"
   ],
   "cell_type": "markdown",
   "metadata": {}
  },
  {
   "cell_type": "code",
   "execution_count": 1,
   "metadata": {},
   "outputs": [],
   "source": [
    "import sys\n",
    "from pathlib import Path\n",
    "DATA_DIR = Path(\"../input\")"
   ]
  },
  {
   "cell_type": "code",
   "execution_count": 2,
   "metadata": {},
   "outputs": [],
   "source": [
    "import numpy as np\n",
    "import pandas as pd\n",
    "import matplotlib.pyplot as plt\n",
    "%matplotlib inline\n",
    "import seaborn as sns\n",
    "sns.set()"
   ]
  },
  {
   "cell_type": "code",
   "execution_count": 3,
   "metadata": {},
   "outputs": [
    {
     "output_type": "execute_result",
     "data": {
      "text/plain": [
       "   Id  MSSubClass MSZoning  LotFrontage  LotArea Street Alley LotShape  \\\n",
       "0   1          60       RL         65.0     8450   Pave   NaN      Reg   \n",
       "1   2          20       RL         80.0     9600   Pave   NaN      Reg   \n",
       "2   3          60       RL         68.0    11250   Pave   NaN      IR1   \n",
       "3   4          70       RL         60.0     9550   Pave   NaN      IR1   \n",
       "4   5          60       RL         84.0    14260   Pave   NaN      IR1   \n",
       "\n",
       "  LandContour Utilities  ... PoolArea PoolQC Fence MiscFeature MiscVal MoSold  \\\n",
       "0         Lvl    AllPub  ...        0    NaN   NaN         NaN       0      2   \n",
       "1         Lvl    AllPub  ...        0    NaN   NaN         NaN       0      5   \n",
       "2         Lvl    AllPub  ...        0    NaN   NaN         NaN       0      9   \n",
       "3         Lvl    AllPub  ...        0    NaN   NaN         NaN       0      2   \n",
       "4         Lvl    AllPub  ...        0    NaN   NaN         NaN       0     12   \n",
       "\n",
       "  YrSold  SaleType  SaleCondition  SalePrice  \n",
       "0   2008        WD         Normal     208500  \n",
       "1   2007        WD         Normal     181500  \n",
       "2   2008        WD         Normal     223500  \n",
       "3   2006        WD        Abnorml     140000  \n",
       "4   2008        WD         Normal     250000  \n",
       "\n",
       "[5 rows x 81 columns]"
      ],
      "text/html": "<div>\n<style scoped>\n    .dataframe tbody tr th:only-of-type {\n        vertical-align: middle;\n    }\n\n    .dataframe tbody tr th {\n        vertical-align: top;\n    }\n\n    .dataframe thead th {\n        text-align: right;\n    }\n</style>\n<table border=\"1\" class=\"dataframe\">\n  <thead>\n    <tr style=\"text-align: right;\">\n      <th></th>\n      <th>Id</th>\n      <th>MSSubClass</th>\n      <th>MSZoning</th>\n      <th>LotFrontage</th>\n      <th>LotArea</th>\n      <th>Street</th>\n      <th>Alley</th>\n      <th>LotShape</th>\n      <th>LandContour</th>\n      <th>Utilities</th>\n      <th>...</th>\n      <th>PoolArea</th>\n      <th>PoolQC</th>\n      <th>Fence</th>\n      <th>MiscFeature</th>\n      <th>MiscVal</th>\n      <th>MoSold</th>\n      <th>YrSold</th>\n      <th>SaleType</th>\n      <th>SaleCondition</th>\n      <th>SalePrice</th>\n    </tr>\n  </thead>\n  <tbody>\n    <tr>\n      <th>0</th>\n      <td>1</td>\n      <td>60</td>\n      <td>RL</td>\n      <td>65.0</td>\n      <td>8450</td>\n      <td>Pave</td>\n      <td>NaN</td>\n      <td>Reg</td>\n      <td>Lvl</td>\n      <td>AllPub</td>\n      <td>...</td>\n      <td>0</td>\n      <td>NaN</td>\n      <td>NaN</td>\n      <td>NaN</td>\n      <td>0</td>\n      <td>2</td>\n      <td>2008</td>\n      <td>WD</td>\n      <td>Normal</td>\n      <td>208500</td>\n    </tr>\n    <tr>\n      <th>1</th>\n      <td>2</td>\n      <td>20</td>\n      <td>RL</td>\n      <td>80.0</td>\n      <td>9600</td>\n      <td>Pave</td>\n      <td>NaN</td>\n      <td>Reg</td>\n      <td>Lvl</td>\n      <td>AllPub</td>\n      <td>...</td>\n      <td>0</td>\n      <td>NaN</td>\n      <td>NaN</td>\n      <td>NaN</td>\n      <td>0</td>\n      <td>5</td>\n      <td>2007</td>\n      <td>WD</td>\n      <td>Normal</td>\n      <td>181500</td>\n    </tr>\n    <tr>\n      <th>2</th>\n      <td>3</td>\n      <td>60</td>\n      <td>RL</td>\n      <td>68.0</td>\n      <td>11250</td>\n      <td>Pave</td>\n      <td>NaN</td>\n      <td>IR1</td>\n      <td>Lvl</td>\n      <td>AllPub</td>\n      <td>...</td>\n      <td>0</td>\n      <td>NaN</td>\n      <td>NaN</td>\n      <td>NaN</td>\n      <td>0</td>\n      <td>9</td>\n      <td>2008</td>\n      <td>WD</td>\n      <td>Normal</td>\n      <td>223500</td>\n    </tr>\n    <tr>\n      <th>3</th>\n      <td>4</td>\n      <td>70</td>\n      <td>RL</td>\n      <td>60.0</td>\n      <td>9550</td>\n      <td>Pave</td>\n      <td>NaN</td>\n      <td>IR1</td>\n      <td>Lvl</td>\n      <td>AllPub</td>\n      <td>...</td>\n      <td>0</td>\n      <td>NaN</td>\n      <td>NaN</td>\n      <td>NaN</td>\n      <td>0</td>\n      <td>2</td>\n      <td>2006</td>\n      <td>WD</td>\n      <td>Abnorml</td>\n      <td>140000</td>\n    </tr>\n    <tr>\n      <th>4</th>\n      <td>5</td>\n      <td>60</td>\n      <td>RL</td>\n      <td>84.0</td>\n      <td>14260</td>\n      <td>Pave</td>\n      <td>NaN</td>\n      <td>IR1</td>\n      <td>Lvl</td>\n      <td>AllPub</td>\n      <td>...</td>\n      <td>0</td>\n      <td>NaN</td>\n      <td>NaN</td>\n      <td>NaN</td>\n      <td>0</td>\n      <td>12</td>\n      <td>2008</td>\n      <td>WD</td>\n      <td>Normal</td>\n      <td>250000</td>\n    </tr>\n  </tbody>\n</table>\n<p>5 rows × 81 columns</p>\n</div>"
     },
     "metadata": {},
     "execution_count": 3
    }
   ],
   "source": [
    "df_train = pd.read_csv(DATA_DIR / \"train.csv\")\n",
    "df_train.head()"
   ]
  },
  {
   "cell_type": "code",
   "execution_count": 5,
   "metadata": {},
   "outputs": [],
   "source": [
    "def clean_df(df:pd.DataFrame) -> pd.DataFrame:\n",
    "    category_columns = ['MSSubClass',\n",
    "        'MSZoning','Street','Alley','LotShape','LandContour',\n",
    "        'Utilities','LotConfig','LandSlope','Neighborhood',\n",
    "        'Condition1','Condition2','BldgType','HouseStyle',\n",
    "        'OverallQual','OverallCond','RoofStyle','RoofMatl',\n",
    "        'Exterior1st','Exterior2nd','MasVnrType','ExterQual',\n",
    "        'ExterCond','Foundation','BsmtQual','BsmtCond',\n",
    "        'BsmtExposure','BsmtFinType2','Heating','HeatingQC',\n",
    "        'CentralAir','Electrical','KitchenQual','Functional',\n",
    "        'FireplaceQu','GarageType','GarageFinish','GarageQual',\n",
    "        'GarageCond','PavedDrive','PoolQC','Fence','MiscFeature',\n",
    "        'SaleType','SaleCondition']\n",
    "    for c in category_columns:\n",
    "        df[c] = pd.Categorical(df[c])\n",
    "    return df"
   ]
  },
  {
   "cell_type": "code",
   "execution_count": 9,
   "metadata": {},
   "outputs": [
    {
     "output_type": "execute_result",
     "data": {
      "text/plain": [
       "        Id MSSubClass MSZoning  LotFrontage  LotArea Street Alley LotShape  \\\n",
       "470    471        120       RL          NaN     6820   Pave   NaN      IR1   \n",
       "608    609         70       RL         78.0    12168   Pave   NaN      Reg   \n",
       "968    969         50       RM         50.0     5925   Pave   NaN      Reg   \n",
       "19      20         20       RL         70.0     7560   Pave   NaN      Reg   \n",
       "595    596         20       RL         69.0    11302   Pave   NaN      IR1   \n",
       "335    336        190       RL          NaN   164660   Grvl   NaN      IR1   \n",
       "895    896         60       RL         71.0     7056   Pave   NaN      Reg   \n",
       "960    961         20       RL         50.0     7207   Pave   NaN      IR1   \n",
       "1066  1067         60       RL         59.0     7837   Pave   NaN      IR1   \n",
       "1447  1448         60       RL         80.0    10000   Pave   NaN      Reg   \n",
       "\n",
       "     LandContour Utilities  ... PoolArea PoolQC  Fence MiscFeature MiscVal  \\\n",
       "470          Lvl    AllPub  ...        0    NaN    NaN         NaN       0   \n",
       "608          HLS    AllPub  ...        0    NaN    NaN         NaN       0   \n",
       "968          Lvl    AllPub  ...        0    NaN   GdWo         NaN       0   \n",
       "19           Lvl    AllPub  ...        0    NaN  MnPrv         NaN       0   \n",
       "595          Lvl    AllPub  ...        0    NaN    NaN         NaN       0   \n",
       "335          HLS    AllPub  ...        0    NaN    NaN        Shed     700   \n",
       "895          Lvl    AllPub  ...        0    NaN    NaN         NaN       0   \n",
       "960          Lvl    AllPub  ...        0    NaN    NaN         NaN       0   \n",
       "1066         Lvl    AllPub  ...        0    NaN    NaN         NaN       0   \n",
       "1447         Lvl    AllPub  ...        0    NaN    NaN         NaN       0   \n",
       "\n",
       "     MoSold YrSold SaleType SaleCondition  SalePrice  \n",
       "470       6   2010       WD        Normal     212000  \n",
       "608       9   2007       WD        Alloca     359100  \n",
       "968       5   2009       WD       Abnorml      37900  \n",
       "19        5   2009      COD       Abnorml     139000  \n",
       "595       8   2006      New       Partial     319000  \n",
       "335       8   2008       WD        Normal     228950  \n",
       "895      10   2008       WD        Normal     140000  \n",
       "960       2   2010       WD        Normal     116500  \n",
       "1066      5   2009       WD        Normal     178000  \n",
       "1447     12   2007       WD        Normal     240000  \n",
       "\n",
       "[10 rows x 81 columns]"
      ],
      "text/html": "<div>\n<style scoped>\n    .dataframe tbody tr th:only-of-type {\n        vertical-align: middle;\n    }\n\n    .dataframe tbody tr th {\n        vertical-align: top;\n    }\n\n    .dataframe thead th {\n        text-align: right;\n    }\n</style>\n<table border=\"1\" class=\"dataframe\">\n  <thead>\n    <tr style=\"text-align: right;\">\n      <th></th>\n      <th>Id</th>\n      <th>MSSubClass</th>\n      <th>MSZoning</th>\n      <th>LotFrontage</th>\n      <th>LotArea</th>\n      <th>Street</th>\n      <th>Alley</th>\n      <th>LotShape</th>\n      <th>LandContour</th>\n      <th>Utilities</th>\n      <th>...</th>\n      <th>PoolArea</th>\n      <th>PoolQC</th>\n      <th>Fence</th>\n      <th>MiscFeature</th>\n      <th>MiscVal</th>\n      <th>MoSold</th>\n      <th>YrSold</th>\n      <th>SaleType</th>\n      <th>SaleCondition</th>\n      <th>SalePrice</th>\n    </tr>\n  </thead>\n  <tbody>\n    <tr>\n      <th>470</th>\n      <td>471</td>\n      <td>120</td>\n      <td>RL</td>\n      <td>NaN</td>\n      <td>6820</td>\n      <td>Pave</td>\n      <td>NaN</td>\n      <td>IR1</td>\n      <td>Lvl</td>\n      <td>AllPub</td>\n      <td>...</td>\n      <td>0</td>\n      <td>NaN</td>\n      <td>NaN</td>\n      <td>NaN</td>\n      <td>0</td>\n      <td>6</td>\n      <td>2010</td>\n      <td>WD</td>\n      <td>Normal</td>\n      <td>212000</td>\n    </tr>\n    <tr>\n      <th>608</th>\n      <td>609</td>\n      <td>70</td>\n      <td>RL</td>\n      <td>78.0</td>\n      <td>12168</td>\n      <td>Pave</td>\n      <td>NaN</td>\n      <td>Reg</td>\n      <td>HLS</td>\n      <td>AllPub</td>\n      <td>...</td>\n      <td>0</td>\n      <td>NaN</td>\n      <td>NaN</td>\n      <td>NaN</td>\n      <td>0</td>\n      <td>9</td>\n      <td>2007</td>\n      <td>WD</td>\n      <td>Alloca</td>\n      <td>359100</td>\n    </tr>\n    <tr>\n      <th>968</th>\n      <td>969</td>\n      <td>50</td>\n      <td>RM</td>\n      <td>50.0</td>\n      <td>5925</td>\n      <td>Pave</td>\n      <td>NaN</td>\n      <td>Reg</td>\n      <td>Lvl</td>\n      <td>AllPub</td>\n      <td>...</td>\n      <td>0</td>\n      <td>NaN</td>\n      <td>GdWo</td>\n      <td>NaN</td>\n      <td>0</td>\n      <td>5</td>\n      <td>2009</td>\n      <td>WD</td>\n      <td>Abnorml</td>\n      <td>37900</td>\n    </tr>\n    <tr>\n      <th>19</th>\n      <td>20</td>\n      <td>20</td>\n      <td>RL</td>\n      <td>70.0</td>\n      <td>7560</td>\n      <td>Pave</td>\n      <td>NaN</td>\n      <td>Reg</td>\n      <td>Lvl</td>\n      <td>AllPub</td>\n      <td>...</td>\n      <td>0</td>\n      <td>NaN</td>\n      <td>MnPrv</td>\n      <td>NaN</td>\n      <td>0</td>\n      <td>5</td>\n      <td>2009</td>\n      <td>COD</td>\n      <td>Abnorml</td>\n      <td>139000</td>\n    </tr>\n    <tr>\n      <th>595</th>\n      <td>596</td>\n      <td>20</td>\n      <td>RL</td>\n      <td>69.0</td>\n      <td>11302</td>\n      <td>Pave</td>\n      <td>NaN</td>\n      <td>IR1</td>\n      <td>Lvl</td>\n      <td>AllPub</td>\n      <td>...</td>\n      <td>0</td>\n      <td>NaN</td>\n      <td>NaN</td>\n      <td>NaN</td>\n      <td>0</td>\n      <td>8</td>\n      <td>2006</td>\n      <td>New</td>\n      <td>Partial</td>\n      <td>319000</td>\n    </tr>\n    <tr>\n      <th>335</th>\n      <td>336</td>\n      <td>190</td>\n      <td>RL</td>\n      <td>NaN</td>\n      <td>164660</td>\n      <td>Grvl</td>\n      <td>NaN</td>\n      <td>IR1</td>\n      <td>HLS</td>\n      <td>AllPub</td>\n      <td>...</td>\n      <td>0</td>\n      <td>NaN</td>\n      <td>NaN</td>\n      <td>Shed</td>\n      <td>700</td>\n      <td>8</td>\n      <td>2008</td>\n      <td>WD</td>\n      <td>Normal</td>\n      <td>228950</td>\n    </tr>\n    <tr>\n      <th>895</th>\n      <td>896</td>\n      <td>60</td>\n      <td>RL</td>\n      <td>71.0</td>\n      <td>7056</td>\n      <td>Pave</td>\n      <td>NaN</td>\n      <td>Reg</td>\n      <td>Lvl</td>\n      <td>AllPub</td>\n      <td>...</td>\n      <td>0</td>\n      <td>NaN</td>\n      <td>NaN</td>\n      <td>NaN</td>\n      <td>0</td>\n      <td>10</td>\n      <td>2008</td>\n      <td>WD</td>\n      <td>Normal</td>\n      <td>140000</td>\n    </tr>\n    <tr>\n      <th>960</th>\n      <td>961</td>\n      <td>20</td>\n      <td>RL</td>\n      <td>50.0</td>\n      <td>7207</td>\n      <td>Pave</td>\n      <td>NaN</td>\n      <td>IR1</td>\n      <td>Lvl</td>\n      <td>AllPub</td>\n      <td>...</td>\n      <td>0</td>\n      <td>NaN</td>\n      <td>NaN</td>\n      <td>NaN</td>\n      <td>0</td>\n      <td>2</td>\n      <td>2010</td>\n      <td>WD</td>\n      <td>Normal</td>\n      <td>116500</td>\n    </tr>\n    <tr>\n      <th>1066</th>\n      <td>1067</td>\n      <td>60</td>\n      <td>RL</td>\n      <td>59.0</td>\n      <td>7837</td>\n      <td>Pave</td>\n      <td>NaN</td>\n      <td>IR1</td>\n      <td>Lvl</td>\n      <td>AllPub</td>\n      <td>...</td>\n      <td>0</td>\n      <td>NaN</td>\n      <td>NaN</td>\n      <td>NaN</td>\n      <td>0</td>\n      <td>5</td>\n      <td>2009</td>\n      <td>WD</td>\n      <td>Normal</td>\n      <td>178000</td>\n    </tr>\n    <tr>\n      <th>1447</th>\n      <td>1448</td>\n      <td>60</td>\n      <td>RL</td>\n      <td>80.0</td>\n      <td>10000</td>\n      <td>Pave</td>\n      <td>NaN</td>\n      <td>Reg</td>\n      <td>Lvl</td>\n      <td>AllPub</td>\n      <td>...</td>\n      <td>0</td>\n      <td>NaN</td>\n      <td>NaN</td>\n      <td>NaN</td>\n      <td>0</td>\n      <td>12</td>\n      <td>2007</td>\n      <td>WD</td>\n      <td>Normal</td>\n      <td>240000</td>\n    </tr>\n  </tbody>\n</table>\n<p>10 rows × 81 columns</p>\n</div>"
     },
     "metadata": {},
     "execution_count": 9
    }
   ],
   "source": [
    "df_train = clean_df(df_train)\n",
    "df_train.sample(10)"
   ]
  },
  {
   "cell_type": "code",
   "execution_count": null,
   "metadata": {},
   "outputs": [],
   "source": []
  },
  {
   "cell_type": "code",
   "execution_count": null,
   "metadata": {},
   "outputs": [],
   "source": []
  },
  {
   "cell_type": "code",
   "execution_count": null,
   "metadata": {},
   "outputs": [],
   "source": []
  }
 ]
}